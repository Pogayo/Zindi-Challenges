{
 "cells": [
  {
   "cell_type": "markdown",
   "metadata": {},
   "source": [
    "##### Author: [Perez Ogayo](https://linkedin.com/in/peresogayo)\n",
    "##### Acknowledgements: [Juste Nyirimana](https://www.linkedin.com/in/juste-nyirimana-25a534144/) for providing the starter code"
   ]
  },
  {
   "cell_type": "markdown",
   "metadata": {},
   "source": [
    "# UmojaHack Rwanda: Expresso Churn Prediction Challenge"
   ]
  },
  {
   "cell_type": "markdown",
   "metadata": {},
   "source": [
    "## Before you begin \n",
    "### A note about the data\n",
    "\n",
    "Make sure the Train.csv, Test.csv and SampleSubmission.csv is in the same folder as this notebook, or you can change the path in the relevant cell. Also make sure the names match.\n",
    "\n",
    "The output file is called \"mean_encode_XGB_submission2_final.csv\" and will be saved in the directory that contains this \n",
    "notebook.\n",
    "\n",
    "### If you want to save time\n",
    "If you are only interested in the output file, skip the cell where we train on a portion of the train set- It takes about 30 min(Intel i7). Only run the cell where we train on the full dataset.\n",
    "\n",
    "### Make sure the packages used here are installed\n",
    "One package that is used here that most people don't have is *missingno*. Confirm that it is installed, if not, install it."
   ]
  },
  {
   "cell_type": "markdown",
   "metadata": {},
   "source": [
    "## Table of Contents:\n",
    "&nbsp;&nbsp;1. [LOADING THE DATA](#1)\n",
    "   \n",
    "&nbsp;&nbsp;2. [EXPLORING THE DATA](#2)   \n",
    "\n",
    "&nbsp;&nbsp;3. [BUILDING SOME MODELS](#3)   \n",
    "\n",
    "&nbsp;&nbsp;4. [GENERATING THE PREDICTIONS FOR THE TEST SET](#4)"
   ]
  },
  {
   "cell_type": "markdown",
   "metadata": {},
   "source": [
    "# LOADING THE DATA"
   ]
  },
  {
   "cell_type": "code",
   "execution_count": 1,
   "metadata": {},
   "outputs": [],
   "source": [
    "##importing packages\n",
    "import pandas as pd \n",
    "%matplotlib inline\n",
    "import matplotlib.pyplot as plt\n",
    "import matplotlib\n",
    "import seaborn as sns\n",
    "import numpy as np\n",
    "import missingno as msno"
   ]
  },
  {
   "cell_type": "markdown",
   "metadata": {},
   "source": [
    "Next, load the datasets."
   ]
  },
  {
   "cell_type": "code",
   "execution_count": 2,
   "metadata": {},
   "outputs": [],
   "source": [
    "#reading in the data\n",
    "train = pd.read_csv('Train.csv')\n",
    "test = pd.read_csv('Test.csv')"
   ]
  },
  {
   "cell_type": "code",
   "execution_count": 3,
   "metadata": {},
   "outputs": [
    {
     "data": {
      "text/html": [
       "<div>\n",
       "<style scoped>\n",
       "    .dataframe tbody tr th:only-of-type {\n",
       "        vertical-align: middle;\n",
       "    }\n",
       "\n",
       "    .dataframe tbody tr th {\n",
       "        vertical-align: top;\n",
       "    }\n",
       "\n",
       "    .dataframe thead th {\n",
       "        text-align: right;\n",
       "    }\n",
       "</style>\n",
       "<table border=\"1\" class=\"dataframe\">\n",
       "  <thead>\n",
       "    <tr style=\"text-align: right;\">\n",
       "      <th></th>\n",
       "      <th>user_id</th>\n",
       "      <th>REGION</th>\n",
       "      <th>TENURE</th>\n",
       "      <th>MONTANT</th>\n",
       "      <th>FREQUENCE_RECH</th>\n",
       "      <th>REVENUE</th>\n",
       "      <th>ARPU_SEGMENT</th>\n",
       "      <th>FREQUENCE</th>\n",
       "      <th>DATA_VOLUME</th>\n",
       "      <th>ON_NET</th>\n",
       "      <th>ORANGE</th>\n",
       "      <th>TIGO</th>\n",
       "      <th>ZONE1</th>\n",
       "      <th>ZONE2</th>\n",
       "      <th>MRG</th>\n",
       "      <th>REGULARITY</th>\n",
       "      <th>TOP_PACK</th>\n",
       "      <th>FREQ_TOP_PACK</th>\n",
       "      <th>CHURN</th>\n",
       "    </tr>\n",
       "  </thead>\n",
       "  <tbody>\n",
       "    <tr>\n",
       "      <th>0</th>\n",
       "      <td>00000bfd7d50f01092811bc0c8d7b0d6fe7c3596</td>\n",
       "      <td>FATICK</td>\n",
       "      <td>K &gt; 24 month</td>\n",
       "      <td>4250.0</td>\n",
       "      <td>15.0</td>\n",
       "      <td>4251.0</td>\n",
       "      <td>1417.0</td>\n",
       "      <td>17.0</td>\n",
       "      <td>4.0</td>\n",
       "      <td>388.0</td>\n",
       "      <td>46.0</td>\n",
       "      <td>1.0</td>\n",
       "      <td>1.0</td>\n",
       "      <td>2.0</td>\n",
       "      <td>NO</td>\n",
       "      <td>54</td>\n",
       "      <td>On net 200F=Unlimited _call24H</td>\n",
       "      <td>8.0</td>\n",
       "      <td>0</td>\n",
       "    </tr>\n",
       "    <tr>\n",
       "      <th>1</th>\n",
       "      <td>00000cb4a5d760de88fecb38e2f71b7bec52e834</td>\n",
       "      <td>NaN</td>\n",
       "      <td>I 18-21 month</td>\n",
       "      <td>NaN</td>\n",
       "      <td>NaN</td>\n",
       "      <td>NaN</td>\n",
       "      <td>NaN</td>\n",
       "      <td>NaN</td>\n",
       "      <td>NaN</td>\n",
       "      <td>NaN</td>\n",
       "      <td>NaN</td>\n",
       "      <td>NaN</td>\n",
       "      <td>NaN</td>\n",
       "      <td>NaN</td>\n",
       "      <td>NO</td>\n",
       "      <td>4</td>\n",
       "      <td>NaN</td>\n",
       "      <td>NaN</td>\n",
       "      <td>1</td>\n",
       "    </tr>\n",
       "    <tr>\n",
       "      <th>2</th>\n",
       "      <td>00001654a9d9f96303d9969d0a4a851714a4bb57</td>\n",
       "      <td>NaN</td>\n",
       "      <td>K &gt; 24 month</td>\n",
       "      <td>3600.0</td>\n",
       "      <td>2.0</td>\n",
       "      <td>1020.0</td>\n",
       "      <td>340.0</td>\n",
       "      <td>2.0</td>\n",
       "      <td>NaN</td>\n",
       "      <td>90.0</td>\n",
       "      <td>46.0</td>\n",
       "      <td>7.0</td>\n",
       "      <td>NaN</td>\n",
       "      <td>NaN</td>\n",
       "      <td>NO</td>\n",
       "      <td>17</td>\n",
       "      <td>On-net 1000F=10MilF;10d</td>\n",
       "      <td>1.0</td>\n",
       "      <td>0</td>\n",
       "    </tr>\n",
       "    <tr>\n",
       "      <th>3</th>\n",
       "      <td>00001dd6fa45f7ba044bd5d84937be464ce78ac2</td>\n",
       "      <td>DAKAR</td>\n",
       "      <td>K &gt; 24 month</td>\n",
       "      <td>13500.0</td>\n",
       "      <td>15.0</td>\n",
       "      <td>13502.0</td>\n",
       "      <td>4501.0</td>\n",
       "      <td>18.0</td>\n",
       "      <td>43804.0</td>\n",
       "      <td>41.0</td>\n",
       "      <td>102.0</td>\n",
       "      <td>2.0</td>\n",
       "      <td>NaN</td>\n",
       "      <td>NaN</td>\n",
       "      <td>NO</td>\n",
       "      <td>62</td>\n",
       "      <td>Data:1000F=5GB,7d</td>\n",
       "      <td>11.0</td>\n",
       "      <td>0</td>\n",
       "    </tr>\n",
       "    <tr>\n",
       "      <th>4</th>\n",
       "      <td>000028d9e13a595abe061f9b58f3d76ab907850f</td>\n",
       "      <td>DAKAR</td>\n",
       "      <td>K &gt; 24 month</td>\n",
       "      <td>1000.0</td>\n",
       "      <td>1.0</td>\n",
       "      <td>985.0</td>\n",
       "      <td>328.0</td>\n",
       "      <td>1.0</td>\n",
       "      <td>NaN</td>\n",
       "      <td>39.0</td>\n",
       "      <td>24.0</td>\n",
       "      <td>NaN</td>\n",
       "      <td>NaN</td>\n",
       "      <td>NaN</td>\n",
       "      <td>NO</td>\n",
       "      <td>11</td>\n",
       "      <td>Mixt 250F=Unlimited_call24H</td>\n",
       "      <td>2.0</td>\n",
       "      <td>0</td>\n",
       "    </tr>\n",
       "  </tbody>\n",
       "</table>\n",
       "</div>"
      ],
      "text/plain": [
       "                                    user_id  REGION         TENURE  MONTANT  \\\n",
       "0  00000bfd7d50f01092811bc0c8d7b0d6fe7c3596  FATICK   K > 24 month   4250.0   \n",
       "1  00000cb4a5d760de88fecb38e2f71b7bec52e834     NaN  I 18-21 month      NaN   \n",
       "2  00001654a9d9f96303d9969d0a4a851714a4bb57     NaN   K > 24 month   3600.0   \n",
       "3  00001dd6fa45f7ba044bd5d84937be464ce78ac2   DAKAR   K > 24 month  13500.0   \n",
       "4  000028d9e13a595abe061f9b58f3d76ab907850f   DAKAR   K > 24 month   1000.0   \n",
       "\n",
       "   FREQUENCE_RECH  REVENUE  ARPU_SEGMENT  FREQUENCE  DATA_VOLUME  ON_NET  \\\n",
       "0            15.0   4251.0        1417.0       17.0          4.0   388.0   \n",
       "1             NaN      NaN           NaN        NaN          NaN     NaN   \n",
       "2             2.0   1020.0         340.0        2.0          NaN    90.0   \n",
       "3            15.0  13502.0        4501.0       18.0      43804.0    41.0   \n",
       "4             1.0    985.0         328.0        1.0          NaN    39.0   \n",
       "\n",
       "   ORANGE  TIGO  ZONE1  ZONE2 MRG  REGULARITY                        TOP_PACK  \\\n",
       "0    46.0   1.0    1.0    2.0  NO          54  On net 200F=Unlimited _call24H   \n",
       "1     NaN   NaN    NaN    NaN  NO           4                             NaN   \n",
       "2    46.0   7.0    NaN    NaN  NO          17         On-net 1000F=10MilF;10d   \n",
       "3   102.0   2.0    NaN    NaN  NO          62               Data:1000F=5GB,7d   \n",
       "4    24.0   NaN    NaN    NaN  NO          11     Mixt 250F=Unlimited_call24H   \n",
       "\n",
       "   FREQ_TOP_PACK  CHURN  \n",
       "0            8.0      0  \n",
       "1            NaN      1  \n",
       "2            1.0      0  \n",
       "3           11.0      0  \n",
       "4            2.0      0  "
      ]
     },
     "execution_count": 3,
     "metadata": {},
     "output_type": "execute_result"
    }
   ],
   "source": [
    "train.head()"
   ]
  },
  {
   "cell_type": "code",
   "execution_count": 4,
   "metadata": {
    "scrolled": true
   },
   "outputs": [
    {
     "name": "stdout",
     "output_type": "stream",
     "text": [
      "<class 'pandas.core.frame.DataFrame'>\n",
      "RangeIndex: 2154048 entries, 0 to 2154047\n",
      "Data columns (total 19 columns):\n",
      " #   Column          Dtype  \n",
      "---  ------          -----  \n",
      " 0   user_id         object \n",
      " 1   REGION          object \n",
      " 2   TENURE          object \n",
      " 3   MONTANT         float64\n",
      " 4   FREQUENCE_RECH  float64\n",
      " 5   REVENUE         float64\n",
      " 6   ARPU_SEGMENT    float64\n",
      " 7   FREQUENCE       float64\n",
      " 8   DATA_VOLUME     float64\n",
      " 9   ON_NET          float64\n",
      " 10  ORANGE          float64\n",
      " 11  TIGO            float64\n",
      " 12  ZONE1           float64\n",
      " 13  ZONE2           float64\n",
      " 14  MRG             object \n",
      " 15  REGULARITY      int64  \n",
      " 16  TOP_PACK        object \n",
      " 17  FREQ_TOP_PACK   float64\n",
      " 18  CHURN           int64  \n",
      "dtypes: float64(12), int64(2), object(5)\n",
      "memory usage: 312.2+ MB\n"
     ]
    }
   ],
   "source": [
    "train.info()#quite the data"
   ]
  },
  {
   "cell_type": "markdown",
   "metadata": {},
   "source": [
    "Each row represents a customer. There are 2.15 customers in the training set."
   ]
  },
  {
   "cell_type": "code",
   "execution_count": 5,
   "metadata": {},
   "outputs": [
    {
     "data": {
      "text/html": [
       "<div>\n",
       "<style scoped>\n",
       "    .dataframe tbody tr th:only-of-type {\n",
       "        vertical-align: middle;\n",
       "    }\n",
       "\n",
       "    .dataframe tbody tr th {\n",
       "        vertical-align: top;\n",
       "    }\n",
       "\n",
       "    .dataframe thead th {\n",
       "        text-align: right;\n",
       "    }\n",
       "</style>\n",
       "<table border=\"1\" class=\"dataframe\">\n",
       "  <thead>\n",
       "    <tr style=\"text-align: right;\">\n",
       "      <th></th>\n",
       "      <th>user_id</th>\n",
       "      <th>REGION</th>\n",
       "      <th>TENURE</th>\n",
       "      <th>MONTANT</th>\n",
       "      <th>FREQUENCE_RECH</th>\n",
       "      <th>REVENUE</th>\n",
       "      <th>ARPU_SEGMENT</th>\n",
       "      <th>FREQUENCE</th>\n",
       "      <th>DATA_VOLUME</th>\n",
       "      <th>ON_NET</th>\n",
       "      <th>ORANGE</th>\n",
       "      <th>TIGO</th>\n",
       "      <th>ZONE1</th>\n",
       "      <th>ZONE2</th>\n",
       "      <th>MRG</th>\n",
       "      <th>REGULARITY</th>\n",
       "      <th>TOP_PACK</th>\n",
       "      <th>FREQ_TOP_PACK</th>\n",
       "    </tr>\n",
       "  </thead>\n",
       "  <tbody>\n",
       "    <tr>\n",
       "      <th>0</th>\n",
       "      <td>00001dbe00e56fc4b1c1b65dda63de2a5ece55f9</td>\n",
       "      <td>THIES</td>\n",
       "      <td>K &gt; 24 month</td>\n",
       "      <td>5000.0</td>\n",
       "      <td>5.0</td>\n",
       "      <td>5000.0</td>\n",
       "      <td>1667.0</td>\n",
       "      <td>5.0</td>\n",
       "      <td>NaN</td>\n",
       "      <td>378.0</td>\n",
       "      <td>11.0</td>\n",
       "      <td>5.0</td>\n",
       "      <td>NaN</td>\n",
       "      <td>NaN</td>\n",
       "      <td>NO</td>\n",
       "      <td>42</td>\n",
       "      <td>On-net 1000F=10MilF;10d</td>\n",
       "      <td>5.0</td>\n",
       "    </tr>\n",
       "    <tr>\n",
       "      <th>1</th>\n",
       "      <td>000055d41c8a62052dd426592e8a4a3342bf565d</td>\n",
       "      <td>NaN</td>\n",
       "      <td>I 18-21 month</td>\n",
       "      <td>300.0</td>\n",
       "      <td>2.0</td>\n",
       "      <td>326.0</td>\n",
       "      <td>109.0</td>\n",
       "      <td>3.0</td>\n",
       "      <td>397.0</td>\n",
       "      <td>NaN</td>\n",
       "      <td>0.0</td>\n",
       "      <td>NaN</td>\n",
       "      <td>NaN</td>\n",
       "      <td>NaN</td>\n",
       "      <td>NO</td>\n",
       "      <td>41</td>\n",
       "      <td>Data: 100 F=40MB,24H</td>\n",
       "      <td>1.0</td>\n",
       "    </tr>\n",
       "    <tr>\n",
       "      <th>2</th>\n",
       "      <td>000081dd3245e6869a4a9c574c7050e7bb84c2c8</td>\n",
       "      <td>DAKAR</td>\n",
       "      <td>K &gt; 24 month</td>\n",
       "      <td>3300.0</td>\n",
       "      <td>25.0</td>\n",
       "      <td>3400.0</td>\n",
       "      <td>1133.0</td>\n",
       "      <td>26.0</td>\n",
       "      <td>7150.0</td>\n",
       "      <td>0.0</td>\n",
       "      <td>2.0</td>\n",
       "      <td>5.0</td>\n",
       "      <td>NaN</td>\n",
       "      <td>NaN</td>\n",
       "      <td>NO</td>\n",
       "      <td>57</td>\n",
       "      <td>Data: 100 F=40MB,24H</td>\n",
       "      <td>22.0</td>\n",
       "    </tr>\n",
       "    <tr>\n",
       "      <th>3</th>\n",
       "      <td>0000b76d2145d9445d9ff6b65c9ebc4196c89337</td>\n",
       "      <td>NaN</td>\n",
       "      <td>K &gt; 24 month</td>\n",
       "      <td>NaN</td>\n",
       "      <td>NaN</td>\n",
       "      <td>NaN</td>\n",
       "      <td>NaN</td>\n",
       "      <td>NaN</td>\n",
       "      <td>NaN</td>\n",
       "      <td>NaN</td>\n",
       "      <td>NaN</td>\n",
       "      <td>NaN</td>\n",
       "      <td>NaN</td>\n",
       "      <td>NaN</td>\n",
       "      <td>NO</td>\n",
       "      <td>9</td>\n",
       "      <td>NaN</td>\n",
       "      <td>NaN</td>\n",
       "    </tr>\n",
       "    <tr>\n",
       "      <th>4</th>\n",
       "      <td>0000bae5480628cf8fe51ad84bcb39772fc79224</td>\n",
       "      <td>NaN</td>\n",
       "      <td>K &gt; 24 month</td>\n",
       "      <td>NaN</td>\n",
       "      <td>NaN</td>\n",
       "      <td>NaN</td>\n",
       "      <td>NaN</td>\n",
       "      <td>NaN</td>\n",
       "      <td>NaN</td>\n",
       "      <td>NaN</td>\n",
       "      <td>NaN</td>\n",
       "      <td>NaN</td>\n",
       "      <td>NaN</td>\n",
       "      <td>NaN</td>\n",
       "      <td>NO</td>\n",
       "      <td>10</td>\n",
       "      <td>NaN</td>\n",
       "      <td>NaN</td>\n",
       "    </tr>\n",
       "  </tbody>\n",
       "</table>\n",
       "</div>"
      ],
      "text/plain": [
       "                                    user_id REGION         TENURE  MONTANT  \\\n",
       "0  00001dbe00e56fc4b1c1b65dda63de2a5ece55f9  THIES   K > 24 month   5000.0   \n",
       "1  000055d41c8a62052dd426592e8a4a3342bf565d    NaN  I 18-21 month    300.0   \n",
       "2  000081dd3245e6869a4a9c574c7050e7bb84c2c8  DAKAR   K > 24 month   3300.0   \n",
       "3  0000b76d2145d9445d9ff6b65c9ebc4196c89337    NaN   K > 24 month      NaN   \n",
       "4  0000bae5480628cf8fe51ad84bcb39772fc79224    NaN   K > 24 month      NaN   \n",
       "\n",
       "   FREQUENCE_RECH  REVENUE  ARPU_SEGMENT  FREQUENCE  DATA_VOLUME  ON_NET  \\\n",
       "0             5.0   5000.0        1667.0        5.0          NaN   378.0   \n",
       "1             2.0    326.0         109.0        3.0        397.0     NaN   \n",
       "2            25.0   3400.0        1133.0       26.0       7150.0     0.0   \n",
       "3             NaN      NaN           NaN        NaN          NaN     NaN   \n",
       "4             NaN      NaN           NaN        NaN          NaN     NaN   \n",
       "\n",
       "   ORANGE  TIGO  ZONE1  ZONE2 MRG  REGULARITY                 TOP_PACK  \\\n",
       "0    11.0   5.0    NaN    NaN  NO          42  On-net 1000F=10MilF;10d   \n",
       "1     0.0   NaN    NaN    NaN  NO          41     Data: 100 F=40MB,24H   \n",
       "2     2.0   5.0    NaN    NaN  NO          57     Data: 100 F=40MB,24H   \n",
       "3     NaN   NaN    NaN    NaN  NO           9                      NaN   \n",
       "4     NaN   NaN    NaN    NaN  NO          10                      NaN   \n",
       "\n",
       "   FREQ_TOP_PACK  \n",
       "0            5.0  \n",
       "1            1.0  \n",
       "2           22.0  \n",
       "3            NaN  \n",
       "4            NaN  "
      ]
     },
     "execution_count": 5,
     "metadata": {},
     "output_type": "execute_result"
    }
   ],
   "source": [
    "test.head()"
   ]
  },
  {
   "cell_type": "code",
   "execution_count": 74,
   "metadata": {},
   "outputs": [
    {
     "name": "stdout",
     "output_type": "stream",
     "text": [
      "<class 'pandas.core.frame.DataFrame'>\n",
      "RangeIndex: 380127 entries, 0 to 380126\n",
      "Data columns (total 15 columns):\n",
      " #   Column          Non-Null Count   Dtype  \n",
      "---  ------          --------------   -----  \n",
      " 0   user_id         380127 non-null  object \n",
      " 1   REGION          230399 non-null  object \n",
      " 2   TENURE          380127 non-null  object \n",
      " 3   MONTANT         247072 non-null  float64\n",
      " 4   FREQUENCE_RECH  247072 non-null  float64\n",
      " 5   REVENUE         252754 non-null  float64\n",
      " 6   ARPU_SEGMENT    252754 non-null  float64\n",
      " 7   FREQUENCE       252754 non-null  float64\n",
      " 8   DATA_VOLUME     193087 non-null  float64\n",
      " 9   ON_NET          241613 non-null  float64\n",
      " 10  ORANGE          222897 non-null  float64\n",
      " 11  TIGO            153126 non-null  float64\n",
      " 12  REGULARITY      380127 non-null  int64  \n",
      " 13  TOP_PACK        221348 non-null  object \n",
      " 14  FREQ_TOP_PACK   221348 non-null  float64\n",
      "dtypes: float64(10), int64(1), object(4)\n",
      "memory usage: 43.5+ MB\n"
     ]
    }
   ],
   "source": [
    "test.info()"
   ]
  },
  {
   "cell_type": "markdown",
   "metadata": {},
   "source": [
    "#### Exploring missing values"
   ]
  },
  {
   "cell_type": "code",
   "execution_count": 7,
   "metadata": {},
   "outputs": [
    {
     "data": {
      "text/html": [
       "<div>\n",
       "<style scoped>\n",
       "    .dataframe tbody tr th:only-of-type {\n",
       "        vertical-align: middle;\n",
       "    }\n",
       "\n",
       "    .dataframe tbody tr th {\n",
       "        vertical-align: top;\n",
       "    }\n",
       "\n",
       "    .dataframe thead th {\n",
       "        text-align: right;\n",
       "    }\n",
       "</style>\n",
       "<table border=\"1\" class=\"dataframe\">\n",
       "  <thead>\n",
       "    <tr style=\"text-align: right;\">\n",
       "      <th></th>\n",
       "      <th>Total</th>\n",
       "      <th>Percent</th>\n",
       "    </tr>\n",
       "  </thead>\n",
       "  <tbody>\n",
       "    <tr>\n",
       "      <th>ZONE2</th>\n",
       "      <td>2017224</td>\n",
       "      <td>0.936481</td>\n",
       "    </tr>\n",
       "    <tr>\n",
       "      <th>ZONE1</th>\n",
       "      <td>1984327</td>\n",
       "      <td>0.921208</td>\n",
       "    </tr>\n",
       "    <tr>\n",
       "      <th>TIGO</th>\n",
       "      <td>1290016</td>\n",
       "      <td>0.598880</td>\n",
       "    </tr>\n",
       "    <tr>\n",
       "      <th>DATA_VOLUME</th>\n",
       "      <td>1060433</td>\n",
       "      <td>0.492298</td>\n",
       "    </tr>\n",
       "    <tr>\n",
       "      <th>TOP_PACK</th>\n",
       "      <td>902594</td>\n",
       "      <td>0.419022</td>\n",
       "    </tr>\n",
       "    <tr>\n",
       "      <th>FREQ_TOP_PACK</th>\n",
       "      <td>902594</td>\n",
       "      <td>0.419022</td>\n",
       "    </tr>\n",
       "    <tr>\n",
       "      <th>ORANGE</th>\n",
       "      <td>895248</td>\n",
       "      <td>0.415612</td>\n",
       "    </tr>\n",
       "    <tr>\n",
       "      <th>REGION</th>\n",
       "      <td>849299</td>\n",
       "      <td>0.394280</td>\n",
       "    </tr>\n",
       "    <tr>\n",
       "      <th>ON_NET</th>\n",
       "      <td>786675</td>\n",
       "      <td>0.365208</td>\n",
       "    </tr>\n",
       "    <tr>\n",
       "      <th>MONTANT</th>\n",
       "      <td>756739</td>\n",
       "      <td>0.351310</td>\n",
       "    </tr>\n",
       "    <tr>\n",
       "      <th>FREQUENCE_RECH</th>\n",
       "      <td>756739</td>\n",
       "      <td>0.351310</td>\n",
       "    </tr>\n",
       "    <tr>\n",
       "      <th>FREQUENCE</th>\n",
       "      <td>726048</td>\n",
       "      <td>0.337062</td>\n",
       "    </tr>\n",
       "    <tr>\n",
       "      <th>ARPU_SEGMENT</th>\n",
       "      <td>726048</td>\n",
       "      <td>0.337062</td>\n",
       "    </tr>\n",
       "    <tr>\n",
       "      <th>REVENUE</th>\n",
       "      <td>726048</td>\n",
       "      <td>0.337062</td>\n",
       "    </tr>\n",
       "  </tbody>\n",
       "</table>\n",
       "</div>"
      ],
      "text/plain": [
       "                  Total   Percent\n",
       "ZONE2           2017224  0.936481\n",
       "ZONE1           1984327  0.921208\n",
       "TIGO            1290016  0.598880\n",
       "DATA_VOLUME     1060433  0.492298\n",
       "TOP_PACK         902594  0.419022\n",
       "FREQ_TOP_PACK    902594  0.419022\n",
       "ORANGE           895248  0.415612\n",
       "REGION           849299  0.394280\n",
       "ON_NET           786675  0.365208\n",
       "MONTANT          756739  0.351310\n",
       "FREQUENCE_RECH   756739  0.351310\n",
       "FREQUENCE        726048  0.337062\n",
       "ARPU_SEGMENT     726048  0.337062\n",
       "REVENUE          726048  0.337062"
      ]
     },
     "execution_count": 7,
     "metadata": {},
     "output_type": "execute_result"
    }
   ],
   "source": [
    "total = train.isnull().sum().sort_values(ascending=False)\n",
    "percent = (train.isnull().sum()/train.isnull().count()).sort_values(ascending=False)\n",
    "missing_data = pd.concat([total, percent], axis=1, keys=['Total', 'Percent'])\n",
    "missing_data[missing_data.Total > 0]"
   ]
  },
  {
   "cell_type": "code",
   "execution_count": 8,
   "metadata": {},
   "outputs": [
    {
     "data": {
      "text/html": [
       "<div>\n",
       "<style scoped>\n",
       "    .dataframe tbody tr th:only-of-type {\n",
       "        vertical-align: middle;\n",
       "    }\n",
       "\n",
       "    .dataframe tbody tr th {\n",
       "        vertical-align: top;\n",
       "    }\n",
       "\n",
       "    .dataframe thead th {\n",
       "        text-align: right;\n",
       "    }\n",
       "</style>\n",
       "<table border=\"1\" class=\"dataframe\">\n",
       "  <thead>\n",
       "    <tr style=\"text-align: right;\">\n",
       "      <th></th>\n",
       "      <th>Total</th>\n",
       "      <th>Percent</th>\n",
       "    </tr>\n",
       "  </thead>\n",
       "  <tbody>\n",
       "    <tr>\n",
       "      <th>ZONE2</th>\n",
       "      <td>356051</td>\n",
       "      <td>0.936663</td>\n",
       "    </tr>\n",
       "    <tr>\n",
       "      <th>ZONE1</th>\n",
       "      <td>350266</td>\n",
       "      <td>0.921445</td>\n",
       "    </tr>\n",
       "    <tr>\n",
       "      <th>TIGO</th>\n",
       "      <td>227001</td>\n",
       "      <td>0.597171</td>\n",
       "    </tr>\n",
       "    <tr>\n",
       "      <th>DATA_VOLUME</th>\n",
       "      <td>187040</td>\n",
       "      <td>0.492046</td>\n",
       "    </tr>\n",
       "    <tr>\n",
       "      <th>TOP_PACK</th>\n",
       "      <td>158779</td>\n",
       "      <td>0.417700</td>\n",
       "    </tr>\n",
       "    <tr>\n",
       "      <th>FREQ_TOP_PACK</th>\n",
       "      <td>158779</td>\n",
       "      <td>0.417700</td>\n",
       "    </tr>\n",
       "    <tr>\n",
       "      <th>ORANGE</th>\n",
       "      <td>157230</td>\n",
       "      <td>0.413625</td>\n",
       "    </tr>\n",
       "    <tr>\n",
       "      <th>REGION</th>\n",
       "      <td>149728</td>\n",
       "      <td>0.393889</td>\n",
       "    </tr>\n",
       "    <tr>\n",
       "      <th>ON_NET</th>\n",
       "      <td>138514</td>\n",
       "      <td>0.364389</td>\n",
       "    </tr>\n",
       "    <tr>\n",
       "      <th>FREQUENCE_RECH</th>\n",
       "      <td>133055</td>\n",
       "      <td>0.350028</td>\n",
       "    </tr>\n",
       "    <tr>\n",
       "      <th>MONTANT</th>\n",
       "      <td>133055</td>\n",
       "      <td>0.350028</td>\n",
       "    </tr>\n",
       "    <tr>\n",
       "      <th>FREQUENCE</th>\n",
       "      <td>127373</td>\n",
       "      <td>0.335080</td>\n",
       "    </tr>\n",
       "    <tr>\n",
       "      <th>ARPU_SEGMENT</th>\n",
       "      <td>127373</td>\n",
       "      <td>0.335080</td>\n",
       "    </tr>\n",
       "    <tr>\n",
       "      <th>REVENUE</th>\n",
       "      <td>127373</td>\n",
       "      <td>0.335080</td>\n",
       "    </tr>\n",
       "  </tbody>\n",
       "</table>\n",
       "</div>"
      ],
      "text/plain": [
       "                 Total   Percent\n",
       "ZONE2           356051  0.936663\n",
       "ZONE1           350266  0.921445\n",
       "TIGO            227001  0.597171\n",
       "DATA_VOLUME     187040  0.492046\n",
       "TOP_PACK        158779  0.417700\n",
       "FREQ_TOP_PACK   158779  0.417700\n",
       "ORANGE          157230  0.413625\n",
       "REGION          149728  0.393889\n",
       "ON_NET          138514  0.364389\n",
       "FREQUENCE_RECH  133055  0.350028\n",
       "MONTANT         133055  0.350028\n",
       "FREQUENCE       127373  0.335080\n",
       "ARPU_SEGMENT    127373  0.335080\n",
       "REVENUE         127373  0.335080"
      ]
     },
     "execution_count": 8,
     "metadata": {},
     "output_type": "execute_result"
    }
   ],
   "source": [
    "total = test.isnull().sum().sort_values(ascending=False)\n",
    "percent = (test.isnull().sum()/test.isnull().count()).sort_values(ascending=False)\n",
    "missing_data = pd.concat([total, percent], axis=1, keys=['Total', 'Percent'])\n",
    "missing_data[missing_data.Total > 0]"
   ]
  },
  {
   "cell_type": "code",
   "execution_count": 9,
   "metadata": {
    "scrolled": true
   },
   "outputs": [
    {
     "data": {
      "text/html": [
       "<div>\n",
       "<style scoped>\n",
       "    .dataframe tbody tr th:only-of-type {\n",
       "        vertical-align: middle;\n",
       "    }\n",
       "\n",
       "    .dataframe tbody tr th {\n",
       "        vertical-align: top;\n",
       "    }\n",
       "\n",
       "    .dataframe thead th {\n",
       "        text-align: right;\n",
       "    }\n",
       "</style>\n",
       "<table border=\"1\" class=\"dataframe\">\n",
       "  <thead>\n",
       "    <tr style=\"text-align: right;\">\n",
       "      <th></th>\n",
       "      <th>MONTANT</th>\n",
       "      <th>FREQUENCE_RECH</th>\n",
       "      <th>REVENUE</th>\n",
       "      <th>ARPU_SEGMENT</th>\n",
       "      <th>FREQUENCE</th>\n",
       "      <th>DATA_VOLUME</th>\n",
       "      <th>ON_NET</th>\n",
       "      <th>ORANGE</th>\n",
       "      <th>TIGO</th>\n",
       "      <th>ZONE1</th>\n",
       "      <th>ZONE2</th>\n",
       "      <th>REGULARITY</th>\n",
       "      <th>FREQ_TOP_PACK</th>\n",
       "      <th>CHURN</th>\n",
       "    </tr>\n",
       "  </thead>\n",
       "  <tbody>\n",
       "    <tr>\n",
       "      <th>count</th>\n",
       "      <td>1.397309e+06</td>\n",
       "      <td>1.397309e+06</td>\n",
       "      <td>1.428000e+06</td>\n",
       "      <td>1.428000e+06</td>\n",
       "      <td>1.428000e+06</td>\n",
       "      <td>1.093615e+06</td>\n",
       "      <td>1.367373e+06</td>\n",
       "      <td>1.258800e+06</td>\n",
       "      <td>864032.000000</td>\n",
       "      <td>169721.000000</td>\n",
       "      <td>136824.000000</td>\n",
       "      <td>2.154048e+06</td>\n",
       "      <td>1.251454e+06</td>\n",
       "      <td>2.154048e+06</td>\n",
       "    </tr>\n",
       "    <tr>\n",
       "      <th>mean</th>\n",
       "      <td>5.532117e+03</td>\n",
       "      <td>1.152912e+01</td>\n",
       "      <td>5.510810e+03</td>\n",
       "      <td>1.836943e+03</td>\n",
       "      <td>1.397814e+01</td>\n",
       "      <td>3.366450e+03</td>\n",
       "      <td>2.776891e+02</td>\n",
       "      <td>9.541871e+01</td>\n",
       "      <td>23.109253</td>\n",
       "      <td>8.170132</td>\n",
       "      <td>7.553309</td>\n",
       "      <td>2.804251e+01</td>\n",
       "      <td>9.272461e+00</td>\n",
       "      <td>1.875474e-01</td>\n",
       "    </tr>\n",
       "    <tr>\n",
       "      <th>std</th>\n",
       "      <td>7.111339e+03</td>\n",
       "      <td>1.327407e+01</td>\n",
       "      <td>7.187113e+03</td>\n",
       "      <td>2.395700e+03</td>\n",
       "      <td>1.469403e+01</td>\n",
       "      <td>1.330446e+04</td>\n",
       "      <td>8.726889e+02</td>\n",
       "      <td>2.049873e+02</td>\n",
       "      <td>63.578086</td>\n",
       "      <td>41.169511</td>\n",
       "      <td>33.487234</td>\n",
       "      <td>2.228686e+01</td>\n",
       "      <td>1.228044e+01</td>\n",
       "      <td>3.903504e-01</td>\n",
       "    </tr>\n",
       "    <tr>\n",
       "      <th>min</th>\n",
       "      <td>1.000000e+01</td>\n",
       "      <td>1.000000e+00</td>\n",
       "      <td>1.000000e+00</td>\n",
       "      <td>0.000000e+00</td>\n",
       "      <td>1.000000e+00</td>\n",
       "      <td>0.000000e+00</td>\n",
       "      <td>0.000000e+00</td>\n",
       "      <td>0.000000e+00</td>\n",
       "      <td>0.000000</td>\n",
       "      <td>0.000000</td>\n",
       "      <td>0.000000</td>\n",
       "      <td>1.000000e+00</td>\n",
       "      <td>1.000000e+00</td>\n",
       "      <td>0.000000e+00</td>\n",
       "    </tr>\n",
       "    <tr>\n",
       "      <th>25%</th>\n",
       "      <td>1.000000e+03</td>\n",
       "      <td>2.000000e+00</td>\n",
       "      <td>1.000000e+03</td>\n",
       "      <td>3.330000e+02</td>\n",
       "      <td>3.000000e+00</td>\n",
       "      <td>0.000000e+00</td>\n",
       "      <td>5.000000e+00</td>\n",
       "      <td>7.000000e+00</td>\n",
       "      <td>2.000000</td>\n",
       "      <td>0.000000</td>\n",
       "      <td>0.000000</td>\n",
       "      <td>6.000000e+00</td>\n",
       "      <td>2.000000e+00</td>\n",
       "      <td>0.000000e+00</td>\n",
       "    </tr>\n",
       "    <tr>\n",
       "      <th>50%</th>\n",
       "      <td>3.000000e+03</td>\n",
       "      <td>7.000000e+00</td>\n",
       "      <td>3.000000e+03</td>\n",
       "      <td>1.000000e+03</td>\n",
       "      <td>9.000000e+00</td>\n",
       "      <td>2.570000e+02</td>\n",
       "      <td>2.700000e+01</td>\n",
       "      <td>2.900000e+01</td>\n",
       "      <td>6.000000</td>\n",
       "      <td>1.000000</td>\n",
       "      <td>2.000000</td>\n",
       "      <td>2.400000e+01</td>\n",
       "      <td>5.000000e+00</td>\n",
       "      <td>0.000000e+00</td>\n",
       "    </tr>\n",
       "    <tr>\n",
       "      <th>75%</th>\n",
       "      <td>7.350000e+03</td>\n",
       "      <td>1.600000e+01</td>\n",
       "      <td>7.368000e+03</td>\n",
       "      <td>2.456000e+03</td>\n",
       "      <td>2.000000e+01</td>\n",
       "      <td>2.895000e+03</td>\n",
       "      <td>1.560000e+02</td>\n",
       "      <td>9.900000e+01</td>\n",
       "      <td>20.000000</td>\n",
       "      <td>3.000000</td>\n",
       "      <td>5.000000</td>\n",
       "      <td>5.100000e+01</td>\n",
       "      <td>1.200000e+01</td>\n",
       "      <td>0.000000e+00</td>\n",
       "    </tr>\n",
       "    <tr>\n",
       "      <th>max</th>\n",
       "      <td>4.700000e+05</td>\n",
       "      <td>1.330000e+02</td>\n",
       "      <td>5.321770e+05</td>\n",
       "      <td>1.773920e+05</td>\n",
       "      <td>9.100000e+01</td>\n",
       "      <td>1.823866e+06</td>\n",
       "      <td>5.080900e+04</td>\n",
       "      <td>2.132300e+04</td>\n",
       "      <td>4174.000000</td>\n",
       "      <td>4792.000000</td>\n",
       "      <td>3697.000000</td>\n",
       "      <td>6.200000e+01</td>\n",
       "      <td>7.130000e+02</td>\n",
       "      <td>1.000000e+00</td>\n",
       "    </tr>\n",
       "  </tbody>\n",
       "</table>\n",
       "</div>"
      ],
      "text/plain": [
       "            MONTANT  FREQUENCE_RECH       REVENUE  ARPU_SEGMENT     FREQUENCE  \\\n",
       "count  1.397309e+06    1.397309e+06  1.428000e+06  1.428000e+06  1.428000e+06   \n",
       "mean   5.532117e+03    1.152912e+01  5.510810e+03  1.836943e+03  1.397814e+01   \n",
       "std    7.111339e+03    1.327407e+01  7.187113e+03  2.395700e+03  1.469403e+01   \n",
       "min    1.000000e+01    1.000000e+00  1.000000e+00  0.000000e+00  1.000000e+00   \n",
       "25%    1.000000e+03    2.000000e+00  1.000000e+03  3.330000e+02  3.000000e+00   \n",
       "50%    3.000000e+03    7.000000e+00  3.000000e+03  1.000000e+03  9.000000e+00   \n",
       "75%    7.350000e+03    1.600000e+01  7.368000e+03  2.456000e+03  2.000000e+01   \n",
       "max    4.700000e+05    1.330000e+02  5.321770e+05  1.773920e+05  9.100000e+01   \n",
       "\n",
       "        DATA_VOLUME        ON_NET        ORANGE           TIGO          ZONE1  \\\n",
       "count  1.093615e+06  1.367373e+06  1.258800e+06  864032.000000  169721.000000   \n",
       "mean   3.366450e+03  2.776891e+02  9.541871e+01      23.109253       8.170132   \n",
       "std    1.330446e+04  8.726889e+02  2.049873e+02      63.578086      41.169511   \n",
       "min    0.000000e+00  0.000000e+00  0.000000e+00       0.000000       0.000000   \n",
       "25%    0.000000e+00  5.000000e+00  7.000000e+00       2.000000       0.000000   \n",
       "50%    2.570000e+02  2.700000e+01  2.900000e+01       6.000000       1.000000   \n",
       "75%    2.895000e+03  1.560000e+02  9.900000e+01      20.000000       3.000000   \n",
       "max    1.823866e+06  5.080900e+04  2.132300e+04    4174.000000    4792.000000   \n",
       "\n",
       "               ZONE2    REGULARITY  FREQ_TOP_PACK         CHURN  \n",
       "count  136824.000000  2.154048e+06   1.251454e+06  2.154048e+06  \n",
       "mean        7.553309  2.804251e+01   9.272461e+00  1.875474e-01  \n",
       "std        33.487234  2.228686e+01   1.228044e+01  3.903504e-01  \n",
       "min         0.000000  1.000000e+00   1.000000e+00  0.000000e+00  \n",
       "25%         0.000000  6.000000e+00   2.000000e+00  0.000000e+00  \n",
       "50%         2.000000  2.400000e+01   5.000000e+00  0.000000e+00  \n",
       "75%         5.000000  5.100000e+01   1.200000e+01  0.000000e+00  \n",
       "max      3697.000000  6.200000e+01   7.130000e+02  1.000000e+00  "
      ]
     },
     "execution_count": 9,
     "metadata": {},
     "output_type": "execute_result"
    }
   ],
   "source": [
    "train.describe()"
   ]
  },
  {
   "cell_type": "code",
   "execution_count": 10,
   "metadata": {},
   "outputs": [
    {
     "data": {
      "text/html": [
       "<div>\n",
       "<style scoped>\n",
       "    .dataframe tbody tr th:only-of-type {\n",
       "        vertical-align: middle;\n",
       "    }\n",
       "\n",
       "    .dataframe tbody tr th {\n",
       "        vertical-align: top;\n",
       "    }\n",
       "\n",
       "    .dataframe thead th {\n",
       "        text-align: right;\n",
       "    }\n",
       "</style>\n",
       "<table border=\"1\" class=\"dataframe\">\n",
       "  <thead>\n",
       "    <tr style=\"text-align: right;\">\n",
       "      <th></th>\n",
       "      <th>MONTANT</th>\n",
       "      <th>FREQUENCE_RECH</th>\n",
       "      <th>REVENUE</th>\n",
       "      <th>ARPU_SEGMENT</th>\n",
       "      <th>FREQUENCE</th>\n",
       "      <th>DATA_VOLUME</th>\n",
       "      <th>ON_NET</th>\n",
       "      <th>ORANGE</th>\n",
       "      <th>TIGO</th>\n",
       "      <th>ZONE1</th>\n",
       "      <th>ZONE2</th>\n",
       "      <th>REGULARITY</th>\n",
       "      <th>FREQ_TOP_PACK</th>\n",
       "    </tr>\n",
       "  </thead>\n",
       "  <tbody>\n",
       "    <tr>\n",
       "      <th>count</th>\n",
       "      <td>247072.000000</td>\n",
       "      <td>247072.000000</td>\n",
       "      <td>252754.000000</td>\n",
       "      <td>252754.000000</td>\n",
       "      <td>252754.000000</td>\n",
       "      <td>193087.000000</td>\n",
       "      <td>241613.000000</td>\n",
       "      <td>222897.000000</td>\n",
       "      <td>153126.000000</td>\n",
       "      <td>29861.000000</td>\n",
       "      <td>24076.000000</td>\n",
       "      <td>380127.000000</td>\n",
       "      <td>221348.000000</td>\n",
       "    </tr>\n",
       "    <tr>\n",
       "      <th>mean</th>\n",
       "      <td>5524.958826</td>\n",
       "      <td>11.519853</td>\n",
       "      <td>5499.680468</td>\n",
       "      <td>1833.232443</td>\n",
       "      <td>13.957963</td>\n",
       "      <td>3346.095454</td>\n",
       "      <td>278.806310</td>\n",
       "      <td>95.193008</td>\n",
       "      <td>23.052088</td>\n",
       "      <td>8.164663</td>\n",
       "      <td>7.655300</td>\n",
       "      <td>28.081699</td>\n",
       "      <td>9.261584</td>\n",
       "    </tr>\n",
       "    <tr>\n",
       "      <th>std</th>\n",
       "      <td>7116.320922</td>\n",
       "      <td>13.242743</td>\n",
       "      <td>7195.093138</td>\n",
       "      <td>2398.360570</td>\n",
       "      <td>14.652660</td>\n",
       "      <td>12002.653047</td>\n",
       "      <td>874.253933</td>\n",
       "      <td>203.950776</td>\n",
       "      <td>65.042688</td>\n",
       "      <td>48.857605</td>\n",
       "      <td>33.021478</td>\n",
       "      <td>22.289094</td>\n",
       "      <td>12.268907</td>\n",
       "    </tr>\n",
       "    <tr>\n",
       "      <th>min</th>\n",
       "      <td>25.000000</td>\n",
       "      <td>1.000000</td>\n",
       "      <td>1.000000</td>\n",
       "      <td>0.000000</td>\n",
       "      <td>1.000000</td>\n",
       "      <td>0.000000</td>\n",
       "      <td>0.000000</td>\n",
       "      <td>0.000000</td>\n",
       "      <td>0.000000</td>\n",
       "      <td>0.000000</td>\n",
       "      <td>0.000000</td>\n",
       "      <td>1.000000</td>\n",
       "      <td>1.000000</td>\n",
       "    </tr>\n",
       "    <tr>\n",
       "      <th>25%</th>\n",
       "      <td>1000.000000</td>\n",
       "      <td>2.000000</td>\n",
       "      <td>1000.000000</td>\n",
       "      <td>333.000000</td>\n",
       "      <td>3.000000</td>\n",
       "      <td>0.000000</td>\n",
       "      <td>5.000000</td>\n",
       "      <td>7.000000</td>\n",
       "      <td>2.000000</td>\n",
       "      <td>0.000000</td>\n",
       "      <td>0.000000</td>\n",
       "      <td>6.000000</td>\n",
       "      <td>2.000000</td>\n",
       "    </tr>\n",
       "    <tr>\n",
       "      <th>50%</th>\n",
       "      <td>3000.000000</td>\n",
       "      <td>7.000000</td>\n",
       "      <td>3000.000000</td>\n",
       "      <td>1000.000000</td>\n",
       "      <td>9.000000</td>\n",
       "      <td>259.000000</td>\n",
       "      <td>27.000000</td>\n",
       "      <td>29.000000</td>\n",
       "      <td>6.000000</td>\n",
       "      <td>1.000000</td>\n",
       "      <td>2.000000</td>\n",
       "      <td>24.000000</td>\n",
       "      <td>5.000000</td>\n",
       "    </tr>\n",
       "    <tr>\n",
       "      <th>75%</th>\n",
       "      <td>7350.000000</td>\n",
       "      <td>16.000000</td>\n",
       "      <td>7351.000000</td>\n",
       "      <td>2450.000000</td>\n",
       "      <td>19.000000</td>\n",
       "      <td>2884.000000</td>\n",
       "      <td>157.000000</td>\n",
       "      <td>99.000000</td>\n",
       "      <td>20.000000</td>\n",
       "      <td>3.000000</td>\n",
       "      <td>5.000000</td>\n",
       "      <td>51.000000</td>\n",
       "      <td>12.000000</td>\n",
       "    </tr>\n",
       "    <tr>\n",
       "      <th>max</th>\n",
       "      <td>201500.000000</td>\n",
       "      <td>146.000000</td>\n",
       "      <td>200965.000000</td>\n",
       "      <td>66988.000000</td>\n",
       "      <td>91.000000</td>\n",
       "      <td>977796.000000</td>\n",
       "      <td>26786.000000</td>\n",
       "      <td>6345.000000</td>\n",
       "      <td>3708.000000</td>\n",
       "      <td>4215.000000</td>\n",
       "      <td>1649.000000</td>\n",
       "      <td>62.000000</td>\n",
       "      <td>390.000000</td>\n",
       "    </tr>\n",
       "  </tbody>\n",
       "</table>\n",
       "</div>"
      ],
      "text/plain": [
       "             MONTANT  FREQUENCE_RECH        REVENUE   ARPU_SEGMENT  \\\n",
       "count  247072.000000   247072.000000  252754.000000  252754.000000   \n",
       "mean     5524.958826       11.519853    5499.680468    1833.232443   \n",
       "std      7116.320922       13.242743    7195.093138    2398.360570   \n",
       "min        25.000000        1.000000       1.000000       0.000000   \n",
       "25%      1000.000000        2.000000    1000.000000     333.000000   \n",
       "50%      3000.000000        7.000000    3000.000000    1000.000000   \n",
       "75%      7350.000000       16.000000    7351.000000    2450.000000   \n",
       "max    201500.000000      146.000000  200965.000000   66988.000000   \n",
       "\n",
       "           FREQUENCE    DATA_VOLUME         ON_NET         ORANGE  \\\n",
       "count  252754.000000  193087.000000  241613.000000  222897.000000   \n",
       "mean       13.957963    3346.095454     278.806310      95.193008   \n",
       "std        14.652660   12002.653047     874.253933     203.950776   \n",
       "min         1.000000       0.000000       0.000000       0.000000   \n",
       "25%         3.000000       0.000000       5.000000       7.000000   \n",
       "50%         9.000000     259.000000      27.000000      29.000000   \n",
       "75%        19.000000    2884.000000     157.000000      99.000000   \n",
       "max        91.000000  977796.000000   26786.000000    6345.000000   \n",
       "\n",
       "                TIGO         ZONE1         ZONE2     REGULARITY  FREQ_TOP_PACK  \n",
       "count  153126.000000  29861.000000  24076.000000  380127.000000  221348.000000  \n",
       "mean       23.052088      8.164663      7.655300      28.081699       9.261584  \n",
       "std        65.042688     48.857605     33.021478      22.289094      12.268907  \n",
       "min         0.000000      0.000000      0.000000       1.000000       1.000000  \n",
       "25%         2.000000      0.000000      0.000000       6.000000       2.000000  \n",
       "50%         6.000000      1.000000      2.000000      24.000000       5.000000  \n",
       "75%        20.000000      3.000000      5.000000      51.000000      12.000000  \n",
       "max      3708.000000   4215.000000   1649.000000      62.000000     390.000000  "
      ]
     },
     "execution_count": 10,
     "metadata": {},
     "output_type": "execute_result"
    }
   ],
   "source": [
    "test.describe()"
   ]
  },
  {
   "cell_type": "code",
   "execution_count": 11,
   "metadata": {},
   "outputs": [
    {
     "data": {
      "text/html": [
       "<div>\n",
       "<style scoped>\n",
       "    .dataframe tbody tr th:only-of-type {\n",
       "        vertical-align: middle;\n",
       "    }\n",
       "\n",
       "    .dataframe tbody tr th {\n",
       "        vertical-align: top;\n",
       "    }\n",
       "\n",
       "    .dataframe thead th {\n",
       "        text-align: right;\n",
       "    }\n",
       "</style>\n",
       "<table border=\"1\" class=\"dataframe\">\n",
       "  <thead>\n",
       "    <tr style=\"text-align: right;\">\n",
       "      <th></th>\n",
       "      <th>user_id</th>\n",
       "      <th>REGION</th>\n",
       "      <th>TENURE</th>\n",
       "      <th>MRG</th>\n",
       "      <th>TOP_PACK</th>\n",
       "    </tr>\n",
       "  </thead>\n",
       "  <tbody>\n",
       "    <tr>\n",
       "      <th>count</th>\n",
       "      <td>2154048</td>\n",
       "      <td>1304749</td>\n",
       "      <td>2154048</td>\n",
       "      <td>2154048</td>\n",
       "      <td>1251454</td>\n",
       "    </tr>\n",
       "    <tr>\n",
       "      <th>unique</th>\n",
       "      <td>2154048</td>\n",
       "      <td>14</td>\n",
       "      <td>8</td>\n",
       "      <td>1</td>\n",
       "      <td>140</td>\n",
       "    </tr>\n",
       "    <tr>\n",
       "      <th>top</th>\n",
       "      <td>5daee1d16912bb27f7b2b8e2d652da821db29ea5</td>\n",
       "      <td>DAKAR</td>\n",
       "      <td>K &gt; 24 month</td>\n",
       "      <td>NO</td>\n",
       "      <td>All-net 500F=2000F;5d</td>\n",
       "    </tr>\n",
       "    <tr>\n",
       "      <th>freq</th>\n",
       "      <td>1</td>\n",
       "      <td>513271</td>\n",
       "      <td>2043201</td>\n",
       "      <td>2154048</td>\n",
       "      <td>317802</td>\n",
       "    </tr>\n",
       "  </tbody>\n",
       "</table>\n",
       "</div>"
      ],
      "text/plain": [
       "                                         user_id   REGION        TENURE  \\\n",
       "count                                    2154048  1304749       2154048   \n",
       "unique                                   2154048       14             8   \n",
       "top     5daee1d16912bb27f7b2b8e2d652da821db29ea5    DAKAR  K > 24 month   \n",
       "freq                                           1   513271       2043201   \n",
       "\n",
       "            MRG               TOP_PACK  \n",
       "count   2154048                1251454  \n",
       "unique        1                    140  \n",
       "top          NO  All-net 500F=2000F;5d  \n",
       "freq    2154048                 317802  "
      ]
     },
     "execution_count": 11,
     "metadata": {},
     "output_type": "execute_result"
    }
   ],
   "source": [
    "train.describe(exclude = np.number)#no duplicates in user_id, MRG is useless"
   ]
  },
  {
   "cell_type": "code",
   "execution_count": 12,
   "metadata": {},
   "outputs": [
    {
     "data": {
      "text/html": [
       "<div>\n",
       "<style scoped>\n",
       "    .dataframe tbody tr th:only-of-type {\n",
       "        vertical-align: middle;\n",
       "    }\n",
       "\n",
       "    .dataframe tbody tr th {\n",
       "        vertical-align: top;\n",
       "    }\n",
       "\n",
       "    .dataframe thead th {\n",
       "        text-align: right;\n",
       "    }\n",
       "</style>\n",
       "<table border=\"1\" class=\"dataframe\">\n",
       "  <thead>\n",
       "    <tr style=\"text-align: right;\">\n",
       "      <th></th>\n",
       "      <th>user_id</th>\n",
       "      <th>REGION</th>\n",
       "      <th>TENURE</th>\n",
       "      <th>MRG</th>\n",
       "      <th>TOP_PACK</th>\n",
       "    </tr>\n",
       "  </thead>\n",
       "  <tbody>\n",
       "    <tr>\n",
       "      <th>count</th>\n",
       "      <td>380127</td>\n",
       "      <td>230399</td>\n",
       "      <td>380127</td>\n",
       "      <td>380127</td>\n",
       "      <td>221348</td>\n",
       "    </tr>\n",
       "    <tr>\n",
       "      <th>unique</th>\n",
       "      <td>380127</td>\n",
       "      <td>14</td>\n",
       "      <td>8</td>\n",
       "      <td>1</td>\n",
       "      <td>102</td>\n",
       "    </tr>\n",
       "    <tr>\n",
       "      <th>top</th>\n",
       "      <td>5b54f50a22f3cda2f1cf1aa94622cb4cd74c47de</td>\n",
       "      <td>DAKAR</td>\n",
       "      <td>K &gt; 24 month</td>\n",
       "      <td>NO</td>\n",
       "      <td>All-net 500F=2000F;5d</td>\n",
       "    </tr>\n",
       "    <tr>\n",
       "      <th>freq</th>\n",
       "      <td>1</td>\n",
       "      <td>90615</td>\n",
       "      <td>360350</td>\n",
       "      <td>380127</td>\n",
       "      <td>56038</td>\n",
       "    </tr>\n",
       "  </tbody>\n",
       "</table>\n",
       "</div>"
      ],
      "text/plain": [
       "                                         user_id  REGION        TENURE  \\\n",
       "count                                     380127  230399        380127   \n",
       "unique                                    380127      14             8   \n",
       "top     5b54f50a22f3cda2f1cf1aa94622cb4cd74c47de   DAKAR  K > 24 month   \n",
       "freq                                           1   90615        360350   \n",
       "\n",
       "           MRG               TOP_PACK  \n",
       "count   380127                 221348  \n",
       "unique       1                    102  \n",
       "top         NO  All-net 500F=2000F;5d  \n",
       "freq    380127                  56038  "
      ]
     },
     "execution_count": 12,
     "metadata": {},
     "output_type": "execute_result"
    }
   ],
   "source": [
    "test.describe(exclude = np.number)"
   ]
  },
  {
   "cell_type": "markdown",
   "metadata": {},
   "source": [
    "Let's delete the 'MRG' column since it consists of a single value. Also, let's delete colums 'ZONE2' and 'ZONE1' since they have so many missing values. "
   ]
  },
  {
   "cell_type": "code",
   "execution_count": 13,
   "metadata": {},
   "outputs": [],
   "source": [
    "train = train.drop(['MRG', 'ZONE2', 'ZONE1'], axis = 1)\n",
    "test = test.drop(['MRG', 'ZONE2', 'ZONE1'], axis = 1)"
   ]
  },
  {
   "cell_type": "code",
   "execution_count": 14,
   "metadata": {},
   "outputs": [
    {
     "data": {
      "text/plain": [
       "array(['FATICK', nan, 'DAKAR', 'LOUGA', 'TAMBACOUNDA', 'KAOLACK', 'THIES',\n",
       "       'SAINT-LOUIS', 'KOLDA', 'KAFFRINE', 'DIOURBEL', 'ZIGUINCHOR',\n",
       "       'MATAM', 'SEDHIOU', 'KEDOUGOU'], dtype=object)"
      ]
     },
     "execution_count": 14,
     "metadata": {},
     "output_type": "execute_result"
    }
   ],
   "source": [
    "train.REGION.unique()"
   ]
  },
  {
   "cell_type": "code",
   "execution_count": 17,
   "metadata": {},
   "outputs": [
    {
     "name": "stdout",
     "output_type": "stream",
     "text": [
      "Shape of trainset: (2154048, 16)\n",
      "\n",
      "Shape of testset: (380127, 15)\n"
     ]
    }
   ],
   "source": [
    "print(\"Shape of trainset: \"+ str(train.shape))\n",
    "print()\n",
    "print(\"Shape of testset: \"+str(test.shape))"
   ]
  },
  {
   "cell_type": "markdown",
   "metadata": {},
   "source": [
    "# EXPLORING THE DATA"
   ]
  },
  {
   "cell_type": "markdown",
   "metadata": {},
   "source": [
    "Let's start by looking at the distribution of our target variable."
   ]
  },
  {
   "cell_type": "code",
   "execution_count": 18,
   "metadata": {},
   "outputs": [
    {
     "name": "stdout",
     "output_type": "stream",
     "text": [
      "CHURN\n",
      "0    1750062\n",
      "1     403986\n",
      "dtype: int64\n"
     ]
    },
    {
     "data": {
      "text/plain": [
       "Text(0, 0.5, 'Frequency')"
      ]
     },
     "execution_count": 18,
     "metadata": {},
     "output_type": "execute_result"
    },
    {
     "data": {
      "image/png": "[encoded data removed]",
      "text/plain": [
       "<Figure size 288x288 with 1 Axes>"
      ]
     },
     "metadata": {
      "needs_background": "light"
     },
     "output_type": "display_data"
    }
   ],
   "source": [
    "print(train.groupby(['CHURN']).size())\n",
    "#bar chart to show distribution of the target variable\n",
    "n_obs = train.shape[0]\n",
    "#index = ['No','Yes']\n",
    "churn_plot = train['CHURN'].value_counts().div(n_obs).plot(kind='bar',figsize=(4,4),title=\"Churn rate\", color=['#BB6B5A','#8CCB9B'])\n",
    "churn_plot.set_xlabel(\"Churn Risk\")\n",
    "churn_plot.set_ylabel(\"Frequency\")"
   ]
  },
  {
   "cell_type": "markdown",
   "metadata": {},
   "source": [
    "It is imbalanced, with more than 80% of customers staying. Next, let's take a look at our features. We have a mix of continous and categorical features. \n",
    "\n",
    "Let's begin with the categorical features and investigate how the churn rate differ across the various levels of each categorical feature."
   ]
  },
  {
   "cell_type": "code",
   "execution_count": 19,
   "metadata": {},
   "outputs": [],
   "source": [
    "def attrition_rate_plot(col, target, data, ax=None):\n",
    "    \"\"\"Stacked bar chart of churn rate for `target` against \n",
    "    `col`. \n",
    "    \n",
    "    Args:\n",
    "        col (string): column name of feature variable\n",
    "        target (string): column name of target variable\n",
    "        data (pandas DataFrame): dataframe that contains columns \n",
    "            `col` and `target`\n",
    "        ax (matplotlib axes object, optional): matplotlib axes \n",
    "            object to attach plot to\n",
    "    \"\"\"\n",
    "    counts = (train[[target, col]]\n",
    "                  .groupby([target, col])\n",
    "                  .size()\n",
    "                  .unstack(target)\n",
    "             )\n",
    "    group_counts = counts.sum(axis='columns')\n",
    "    props = counts.div(group_counts, axis='index')\n",
    "\n",
    "    props.plot(kind=\"barh\", stacked=True, ax=ax, color = ['g', 'r'])\n",
    "    ax.invert_yaxis()\n",
    "    ax.legend().remove()"
   ]
  },
  {
   "cell_type": "code",
   "execution_count": 20,
   "metadata": {},
   "outputs": [
    {
     "name": "stderr",
     "output_type": "stream",
     "text": [
      "C:\\ProgramData\\Anaconda3\\lib\\site-packages\\matplotlib\\backends\\backend_agg.py:211: RuntimeWarning: Glyph 9 missing from current font.\n",
      "  font.set_text(s, 0.0, flags=flags)\n",
      "C:\\ProgramData\\Anaconda3\\lib\\site-packages\\matplotlib\\backends\\backend_agg.py:180: RuntimeWarning: Glyph 9 missing from current font.\n",
      "  font.set_text(s, 0, flags=flags)\n"
     ]
    },
    {
     "data": {
      "image/png": "[encoded data removed]",
      "text/plain": [
       "<Figure size 792x792 with 3 Axes>"
      ]
     },
     "metadata": {
      "needs_background": "light"
     },
     "output_type": "display_data"
    }
   ],
   "source": [
    "cols_to_plot = [\n",
    "    'REGION',\n",
    "    'TENURE',\n",
    "    \"TOP_PACK\"\n",
    "]\n",
    "\n",
    "fig, ax = plt.subplots(\n",
    "    len(cols_to_plot), 1, figsize=(11,11)\n",
    ")\n",
    "for idx, col in enumerate(cols_to_plot):\n",
    "    attrition_rate_plot(\n",
    "        col, 'CHURN', train, ax=ax[idx]\n",
    "    )\n",
    "\n",
    "ax[0].legend(\n",
    "    loc='lower center', bbox_to_anchor=(0.5, 1.05), title='Churn'\n",
    ")\n",
    "\n",
    "fig.tight_layout()"
   ]
  },
  {
   "cell_type": "markdown",
   "metadata": {},
   "source": [
    "It looks like customers with tenure between 12 and 15 months have the highest churn rate while new customers have the lowest.\n",
    "\n",
    "Now, let's look at the relationship between the recharge amount and the monthly revenue"
   ]
  },
  {
   "cell_type": "code",
   "execution_count": 21,
   "metadata": {},
   "outputs": [
    {
     "data": {
      "image/png": "[encoded data removed]",
      "text/plain": [
       "<Figure size 1008x576 with 1 Axes>"
      ]
     },
     "metadata": {},
     "output_type": "display_data"
    }
   ],
   "source": [
    "# Set initial plot options\n",
    "sns.set_style('white')\n",
    "plt.figure(figsize = (14, 8))\n",
    "\n",
    "# Create scatterplot\n",
    "sns.scatterplot(x = \"MONTANT\", \n",
    "                y = \"REVENUE\", \n",
    "                # Group by and change dot style and  by CHURN\n",
    "                hue = \"CHURN\",\n",
    "                size = \"CHURN\",  \n",
    "                style = \"CHURN\", \n",
    "                data = train, \n",
    "                # Change color of hue categories\n",
    "                palette = [\"r\", \"g\"],\n",
    "                alpha = 0.2)\n",
    "\n",
    "# Despine plot\n",
    "sns.despine()\n",
    "# Final formatting touches\n",
    "plt.xlabel(\"MONTANT\", fontsize = 12, fontweight = \"semibold\")\n",
    "plt.ylabel(\"REVENUE\", fontsize = 12, fontweight = \"semibold\")\n",
    "plt.title(\"REVENUE by AMOUNT\", fontsize = 14, fontweight = \"semibold\")\n",
    "plt.show()"
   ]
  },
  {
   "cell_type": "markdown",
   "metadata": {},
   "source": [
    "There seems to be some correlation between the two and also there's some outliers. Outliers can create bias in a model's performance. Should we keep them or remove them? I will let you decide."
   ]
  },
  {
   "cell_type": "markdown",
   "metadata": {},
   "source": [
    "# BUILDING SOME MODELS"
   ]
  },
  {
   "cell_type": "markdown",
   "metadata": {},
   "source": [
    "We will train a model using the [XGBoostClassifier](https://xgboost.readthedocs.io/). "
   ]
  },
  {
   "cell_type": "code",
   "execution_count": 22,
   "metadata": {},
   "outputs": [],
   "source": [
    "from sklearn.preprocessing import StandardScaler\n",
    "from sklearn.impute import SimpleImputer\n",
    "from sklearn.compose import ColumnTransformer\n",
    "from sklearn.preprocessing import LabelEncoder, OneHotEncoder\n",
    "\n",
    "from sklearn.linear_model import LogisticRegression\n",
    "from sklearn.multioutput import MultiOutputClassifier\n",
    "\n",
    "from sklearn.pipeline import Pipeline\n",
    "\n",
    "from sklearn.model_selection import train_test_split\n",
    "\n",
    "from sklearn.metrics import roc_curve, roc_auc_score\n",
    "\n",
    "RANDOM_SEED = 123    # Set a random seed for reproducibility!"
   ]
  },
  {
   "cell_type": "markdown",
   "metadata": {},
   "source": [
    "We preprocess the numeric features for better performance.\n",
    "We used the [StandardScaler](https://scikit-learn.org/stable/modules/generated/sklearn.preprocessing.StandardScaler.html), it transforms each feature such that its distribution has a mean value of 0 and a standard deviation of 1.\n",
    "\n",
    " To take care of missing values, we used the [SimpleImputer](https://scikit-learn.org/stable/modules/generated/sklearn.impute.SimpleImputer.html) function.\n",
    "\n",
    "We encapsulated everything into a pipeline . "
   ]
  },
  {
   "cell_type": "markdown",
   "metadata": {},
   "source": [
    "### Feature Preprocessing"
   ]
  },
  {
   "cell_type": "markdown",
   "metadata": {},
   "source": [
    "We started with splitting the train data in train and validation set as we were  going to use mean encodings.To avoid leakages, we have to split first.\n",
    "Because the train data was unbalanced, we used stratified splitting so that the split was representative"
   ]
  },
  {
   "cell_type": "code",
   "execution_count": 33,
   "metadata": {},
   "outputs": [],
   "source": [
    "X_train, X_eval, y_train, y_eval = train_test_split(\n",
    "    train.drop(['user_id', 'CHURN'], axis = 1),\n",
    "    train.CHURN,\n",
    "    test_size=0.33,\n",
    "    shuffle=True,\n",
    "    stratify=train.CHURN,\n",
    "    random_state=RANDOM_SEED\n",
    ")"
   ]
  },
  {
   "cell_type": "markdown",
   "metadata": {},
   "source": [
    "### Mean Encoding for Categorical Data\n"
   ]
  },
  {
   "cell_type": "markdown",
   "metadata": {},
   "source": [
    "Mean encoding kills two birds with a stone, encoding the categorical data and creating a new feature that has a correlation with the target variable"
   ]
  },
  {
   "cell_type": "code",
   "execution_count": 34,
   "metadata": {},
   "outputs": [],
   "source": [
    "X_tr=X_train.copy()\n",
    "X_tr[\"CHURN\"]=y_train\n",
    "\n",
    "X_val=X_eval.copy()\n",
    "X_val[\"CHURN\"]=y_eval\n",
    "\n",
    "cols=[\"REGION\", 'TENURE', 'TOP_PACK'] # These were the categorical columns\n",
    "for col in cols:\n",
    "  means=X_tr.groupby(col).CHURN.mean()\n",
    "  X_tr[col+\" mean_target\"]=X_train[col].map(means)\n",
    "  X_val[col+\" mean_target\"]=X_eval[col].map(means)"
   ]
  },
  {
   "cell_type": "markdown",
   "metadata": {},
   "source": [
    "The same preprocessing is also done on the full dataset and the test set that we will use"
   ]
  },
  {
   "cell_type": "code",
   "execution_count": 29,
   "metadata": {},
   "outputs": [],
   "source": [
    "full_tr=train.copy()\n",
    "\n",
    "X_test=test.copy()\n",
    "\n",
    "cols=[\"REGION\", 'TENURE', 'TOP_PACK']\n",
    "for col in cols:\n",
    "  means=full_tr.groupby(col).CHURN.mean()\n",
    "  full_tr[col+\" mean_target\"]=train[col].map(means)\n",
    "  X_test[col+\" mean_target\"]=X_test[col].map(means)"
   ]
  },
  {
   "cell_type": "code",
   "execution_count": 30,
   "metadata": {},
   "outputs": [],
   "source": [
    "drop_cols=[\"REGION\",'TENURE', 'TOP_PACK']  # We drop these columns as they are now replaced by the mean encoded ones"
   ]
  },
  {
   "cell_type": "code",
   "execution_count": 35,
   "metadata": {},
   "outputs": [],
   "source": [
    "for col in drop_cols:\n",
    "\n",
    "    X_train.drop(col, inplace=True,axis=1)\n",
    "    X_train[col+\" mean_target\"]=X_tr[col+\" mean_target\"]\n",
    "\n",
    "    X_eval.drop(col, inplace=True, axis=1)\n",
    "    X_eval[col+\" mean_target\"]=X_val[col+\" mean_target\"]"
   ]
  },
  {
   "cell_type": "code",
   "execution_count": 36,
   "metadata": {},
   "outputs": [],
   "source": [
    "for col in drop_cols:\n",
    "    full_tr.drop(col, inplace=True,axis=1)\n",
    "    X_test.drop(col, inplace=True, axis=1)\n",
    "  "
   ]
  },
  {
   "cell_type": "markdown",
   "metadata": {},
   "source": [
    "Let's inspect the REGION mean_target"
   ]
  },
  {
   "cell_type": "code",
   "execution_count": 65,
   "metadata": {},
   "outputs": [
    {
     "data": {
      "text/plain": [
       "0.032308    104635\n",
       "0.018833     50240\n",
       "0.063044     38313\n",
       "0.045777     28202\n",
       "0.041923     22477\n",
       "             ...  \n",
       "0.133333         5\n",
       "0.100000         3\n",
       "0.333333         2\n",
       "0.200000         1\n",
       "0.250000         1\n",
       "Name: TOP_PACK mean_target, Length: 91, dtype: int64"
      ]
     },
     "execution_count": 65,
     "metadata": {},
     "output_type": "execute_result"
    }
   ],
   "source": [
    "X_val[\"TOP_PACK mean_target\"].value_counts()"
   ]
  },
  {
   "cell_type": "code",
   "execution_count": null,
   "metadata": {},
   "outputs": [],
   "source": [
    "X_val[\"REGION mean_target\"].value_counts()"
   ]
  },
  {
   "cell_type": "code",
   "execution_count": 45,
   "metadata": {},
   "outputs": [
    {
     "data": {
      "text/plain": [
       "array(['MONTANT', 'FREQUENCE_RECH', 'REVENUE', 'ARPU_SEGMENT',\n",
       "       'FREQUENCE', 'DATA_VOLUME', 'ON_NET', 'ORANGE', 'TIGO',\n",
       "       'REGULARITY', 'FREQ_TOP_PACK', 'REGION mean_target',\n",
       "       'TENURE mean_target', 'TOP_PACK mean_target'], dtype=object)"
      ]
     },
     "execution_count": 45,
     "metadata": {},
     "output_type": "execute_result"
    }
   ],
   "source": [
    "X_train.columns[X_train.dtypes != \"object\"].values"
   ]
  },
  {
   "cell_type": "code",
   "execution_count": 69,
   "metadata": {},
   "outputs": [
    {
     "name": "stdout",
     "output_type": "stream",
     "text": [
      "<class 'list'>\n"
     ]
    }
   ],
   "source": [
    "numeric_cols = list(X_train.columns[X_train.dtypes != \"object\"].values)\n",
    "print(numeric_cols)"
   ]
  },
  {
   "cell_type": "code",
   "execution_count": 70,
   "metadata": {},
   "outputs": [
    {
     "name": "stdout",
     "output_type": "stream",
     "text": [
      "[]\n"
     ]
    }
   ],
   "source": [
    "categorical_cols = list(X_train.columns[X_train.dtypes == \"object\"].values)\n",
    "print(categorical_cols)"
   ]
  },
  {
   "cell_type": "code",
   "execution_count": 48,
   "metadata": {},
   "outputs": [],
   "source": [
    "# chain preprocessing into a Pipeline object\n",
    "# each step is a tuple of (name you chose, sklearn transformer)\n",
    "numeric_preprocessing_steps = Pipeline([\n",
    "    ('standard_scaler', StandardScaler()),\n",
    "    ('simple_imputer', SimpleImputer(strategy='median', add_indicator = True))\n",
    "])\n",
    "\n",
    "categorical_preprocessing_steps = Pipeline([    # We did not use this Pipeline as we used mean-encodings making all features numeric\n",
    "    ('simple_imputer', SimpleImputer(strategy='constant',add_indicator = True)),\n",
    "    ('onehot', OneHotEncoder(handle_unknown='ignore'))\n",
    "])\n",
    "\n",
    "# create the preprocessor stage of final pipeline\n",
    "# each entry in the transformer list is a tuple of\n",
    "# (name you choose, sklearn transformer, list of columns)\n",
    "preprocessor = ColumnTransformer(\n",
    "    transformers = [\n",
    "        (\"numeric\", numeric_preprocessing_steps, numeric_cols),\n",
    "  #      ('categorical', categorical_preprocessing_steps, categorical_cols)\n",
    "    ],\n",
    "    remainder = \"drop\"\n",
    ")"
   ]
  },
  {
   "cell_type": "markdown",
   "metadata": {},
   "source": [
    "### Putting Together the Full Pipeline"
   ]
  },
  {
   "cell_type": "markdown",
   "metadata": {},
   "source": [
    "We put both the preprocessing functions and the estimatior into one Pipeline object, this allows to run the data through all the steps in one interface."
   ]
  },
  {
   "cell_type": "code",
   "execution_count": 49,
   "metadata": {},
   "outputs": [],
   "source": [
    "from xgboost import XGBClassifier"
   ]
  },
  {
   "cell_type": "code",
   "execution_count": 50,
   "metadata": {},
   "outputs": [],
   "source": [
    "xgb_full_pipeline = Pipeline([\n",
    "    (\"preprocessor\", preprocessor),\n",
    "    (\"estimator\", XGBClassifier( learning_rate= 0.05, n_estimators=400, seed= 23,random_state=3, max_depth=7)\n",
    "),\n",
    "])"
   ]
  },
  {
   "cell_type": "markdown",
   "metadata": {},
   "source": [
    "Let's check out the full pipeline."
   ]
  },
  {
   "cell_type": "code",
   "execution_count": 51,
   "metadata": {},
   "outputs": [
    {
     "data": {
      "text/plain": [
       "Pipeline(memory=None,\n",
       "         steps=[('preprocessor',\n",
       "                 ColumnTransformer(n_jobs=None, remainder='drop',\n",
       "                                   sparse_threshold=0.3,\n",
       "                                   transformer_weights=None,\n",
       "                                   transformers=[('numeric',\n",
       "                                                  Pipeline(memory=None,\n",
       "                                                           steps=[('standard_scaler',\n",
       "                                                                   StandardScaler(copy=True,\n",
       "                                                                                  with_mean=True,\n",
       "                                                                                  with_std=True)),\n",
       "                                                                  ('simple_imputer',\n",
       "                                                                   SimpleImputer(add_indicator=True,\n",
       "                                                                                 copy=True,\n",
       "                                                                                 fill_value=None,\n",
       "                                                                                 missing_...\n",
       "                 XGBClassifier(base_score=0.5, booster='gbtree',\n",
       "                               colsample_bylevel=1, colsample_bynode=1,\n",
       "                               colsample_bytree=1, gamma=0, learning_rate=0.05,\n",
       "                               max_delta_step=0, max_depth=7,\n",
       "                               min_child_weight=1, missing=None,\n",
       "                               n_estimators=400, n_jobs=1, nthread=None,\n",
       "                               objective='binary:logistic', random_state=3,\n",
       "                               reg_alpha=0, reg_lambda=1, scale_pos_weight=1,\n",
       "                               seed=23, silent=None, subsample=1,\n",
       "                               verbosity=1))],\n",
       "         verbose=False)"
      ]
     },
     "execution_count": 51,
     "metadata": {},
     "output_type": "execute_result"
    }
   ],
   "source": [
    "from sklearn import set_config\n",
    "\n",
    "xgb_full_pipeline"
   ]
  },
  {
   "cell_type": "markdown",
   "metadata": {},
   "source": [
    "### Training and Evaluation"
   ]
  },
  {
   "cell_type": "code",
   "execution_count": 104,
   "metadata": {},
   "outputs": [
    {
     "name": "stdout",
     "output_type": "stream",
     "text": [
      "Wall time: 27min 53s\n"
     ]
    },
    {
     "data": {
      "text/plain": [
       "array([[9.9942887e-01, 5.7115726e-04],\n",
       "       [6.7116356e-01, 3.2883641e-01],\n",
       "       [9.9724555e-01, 2.7544219e-03],\n",
       "       ...,\n",
       "       [9.9991137e-01, 8.8611734e-05],\n",
       "       [5.2939546e-01, 4.7060454e-01],\n",
       "       [8.5734022e-01, 1.4265975e-01]], dtype=float32)"
      ]
     },
     "execution_count": 104,
     "metadata": {},
     "output_type": "execute_result"
    }
   ],
   "source": [
    "%%time\n",
    "\n",
    "# Train model\n",
    "xgb_full_pipeline.fit(X_train, y_train)\n",
    "\n",
    "# Predict on evaluation set\n",
    "# This competition wants probabilities, not labels\n",
    "gb_preds = xgb_full_pipeline.predict_proba(X_eval)\n",
    "gb_preds"
   ]
  },
  {
   "cell_type": "code",
   "execution_count": 19,
   "metadata": {},
   "outputs": [],
   "source": [
    "from sklearn.metrics import log_loss"
   ]
  },
  {
   "cell_type": "markdown",
   "metadata": {},
   "source": [
    "Let's check how our model did on the evaluation set. The estimator spits out the probabilities for each class(0 and 1). We are interested in the second column, that is the probability of churn."
   ]
  },
  {
   "cell_type": "code",
   "execution_count": 105,
   "metadata": {},
   "outputs": [
    {
     "data": {
      "text/plain": [
       "0.25154956876807144"
      ]
     },
     "execution_count": 105,
     "metadata": {},
     "output_type": "execute_result"
    }
   ],
   "source": [
    "log_loss(y_eval, gb_preds[:, 1])  "
   ]
  },
  {
   "cell_type": "code",
   "execution_count": 52,
   "metadata": {},
   "outputs": [],
   "source": [
    "import scipy as sp\n",
    "import scikitplot as skplt"
   ]
  },
  {
   "cell_type": "code",
   "execution_count": 75,
   "metadata": {},
   "outputs": [
    {
     "name": "stdout",
     "output_type": "stream",
     "text": [
      "Confusion matrix:\n",
      " AxesSubplot(0.125,0.125;0.62x0.755)\n"
     ]
    },
    {
     "data": {
      "image/png": "[encoded data removed]",
      "text/plain": [
       "<Figure size 432x288 with 2 Axes>"
      ]
     },
     "metadata": {
      "needs_background": "light"
     },
     "output_type": "display_data"
    }
   ],
   "source": [
    "print('Confusion matrix:\\n', skplt.metrics.plot_confusion_matrix(y_eval, gb_preds[:, 1].round()))"
   ]
  },
  {
   "cell_type": "markdown",
   "metadata": {},
   "source": [
    "### Retrain Model on Full Dataset"
   ]
  },
  {
   "cell_type": "markdown",
   "metadata": {},
   "source": [
    "Now that we have an idea of how the model performs, let's retrain on the full training set"
   ]
  },
  {
   "cell_type": "code",
   "execution_count": 53,
   "metadata": {},
   "outputs": [
    {
     "name": "stdout",
     "output_type": "stream",
     "text": [
      "<class 'pandas.core.frame.DataFrame'>\n",
      "RangeIndex: 2154048 entries, 0 to 2154047\n",
      "Data columns (total 16 columns):\n",
      " #   Column                Dtype  \n",
      "---  ------                -----  \n",
      " 0   user_id               object \n",
      " 1   MONTANT               float64\n",
      " 2   FREQUENCE_RECH        float64\n",
      " 3   REVENUE               float64\n",
      " 4   ARPU_SEGMENT          float64\n",
      " 5   FREQUENCE             float64\n",
      " 6   DATA_VOLUME           float64\n",
      " 7   ON_NET                float64\n",
      " 8   ORANGE                float64\n",
      " 9   TIGO                  float64\n",
      " 10  REGULARITY            int64  \n",
      " 11  FREQ_TOP_PACK         float64\n",
      " 12  CHURN                 int64  \n",
      " 13  REGION mean_target    float64\n",
      " 14  TENURE mean_target    float64\n",
      " 15  TOP_PACK mean_target  float64\n",
      "dtypes: float64(13), int64(2), object(1)\n",
      "memory usage: 262.9+ MB\n"
     ]
    }
   ],
   "source": [
    "full_tr.info()"
   ]
  },
  {
   "cell_type": "code",
   "execution_count": 54,
   "metadata": {},
   "outputs": [
    {
     "name": "stdout",
     "output_type": "stream",
     "text": [
      "<class 'pandas.core.frame.DataFrame'>\n",
      "RangeIndex: 380127 entries, 0 to 380126\n",
      "Data columns (total 15 columns):\n",
      " #   Column                Non-Null Count   Dtype  \n",
      "---  ------                --------------   -----  \n",
      " 0   user_id               380127 non-null  object \n",
      " 1   MONTANT               247072 non-null  float64\n",
      " 2   FREQUENCE_RECH        247072 non-null  float64\n",
      " 3   REVENUE               252754 non-null  float64\n",
      " 4   ARPU_SEGMENT          252754 non-null  float64\n",
      " 5   FREQUENCE             252754 non-null  float64\n",
      " 6   DATA_VOLUME           193087 non-null  float64\n",
      " 7   ON_NET                241613 non-null  float64\n",
      " 8   ORANGE                222897 non-null  float64\n",
      " 9   TIGO                  153126 non-null  float64\n",
      " 10  REGULARITY            380127 non-null  int64  \n",
      " 11  FREQ_TOP_PACK         221348 non-null  float64\n",
      " 12  REGION mean_target    230399 non-null  float64\n",
      " 13  TENURE mean_target    380127 non-null  float64\n",
      " 14  TOP_PACK mean_target  221346 non-null  float64\n",
      "dtypes: float64(13), int64(1), object(1)\n",
      "memory usage: 43.5+ MB\n"
     ]
    }
   ],
   "source": [
    "X_test.info()"
   ]
  },
  {
   "cell_type": "code",
   "execution_count": 55,
   "metadata": {},
   "outputs": [
    {
     "name": "stdout",
     "output_type": "stream",
     "text": [
      "Wall time: 51min 26s\n"
     ]
    }
   ],
   "source": [
    "%%time \n",
    "\n",
    "xgb_full_pipeline.fit(full_tr.drop(['user_id', 'CHURN'], axis = 1), full_tr.CHURN)\n",
    "\n",
    "None   # So we don't print out the whole pipeline representation"
   ]
  },
  {
   "cell_type": "markdown",
   "metadata": {},
   "source": [
    "# GENERATING THE PREDICTIONS FOR THE TEST SET"
   ]
  },
  {
   "cell_type": "code",
   "execution_count": 56,
   "metadata": {},
   "outputs": [
    {
     "data": {
      "text/plain": [
       "array([[9.9901515e-01, 9.8484824e-04],\n",
       "       [9.2911798e-01, 7.0882007e-02],\n",
       "       [9.9899328e-01, 1.0067223e-03],\n",
       "       ...,\n",
       "       [7.4767131e-01, 2.5232869e-01],\n",
       "       [8.5740566e-01, 1.4259437e-01],\n",
       "       [9.9062634e-01, 9.3736649e-03]], dtype=float32)"
      ]
     },
     "execution_count": 56,
     "metadata": {},
     "output_type": "execute_result"
    }
   ],
   "source": [
    "gb_test_probas = xgb_full_pipeline.predict_proba(X_test.drop('user_id', axis = 1))\n",
    "gb_test_probas"
   ]
  },
  {
   "cell_type": "markdown",
   "metadata": {},
   "source": [
    "Let's load the submission file"
   ]
  },
  {
   "cell_type": "code",
   "execution_count": 57,
   "metadata": {},
   "outputs": [
    {
     "data": {
      "text/html": [
       "<div>\n",
       "<style scoped>\n",
       "    .dataframe tbody tr th:only-of-type {\n",
       "        vertical-align: middle;\n",
       "    }\n",
       "\n",
       "    .dataframe tbody tr th {\n",
       "        vertical-align: top;\n",
       "    }\n",
       "\n",
       "    .dataframe thead th {\n",
       "        text-align: right;\n",
       "    }\n",
       "</style>\n",
       "<table border=\"1\" class=\"dataframe\">\n",
       "  <thead>\n",
       "    <tr style=\"text-align: right;\">\n",
       "      <th></th>\n",
       "      <th>user_id</th>\n",
       "      <th>CHURN</th>\n",
       "    </tr>\n",
       "  </thead>\n",
       "  <tbody>\n",
       "    <tr>\n",
       "      <th>0</th>\n",
       "      <td>00001dbe00e56fc4b1c1b65dda63de2a5ece55f9</td>\n",
       "      <td>0</td>\n",
       "    </tr>\n",
       "    <tr>\n",
       "      <th>1</th>\n",
       "      <td>000055d41c8a62052dd426592e8a4a3342bf565d</td>\n",
       "      <td>0</td>\n",
       "    </tr>\n",
       "    <tr>\n",
       "      <th>2</th>\n",
       "      <td>000081dd3245e6869a4a9c574c7050e7bb84c2c8</td>\n",
       "      <td>0</td>\n",
       "    </tr>\n",
       "    <tr>\n",
       "      <th>3</th>\n",
       "      <td>0000b76d2145d9445d9ff6b65c9ebc4196c89337</td>\n",
       "      <td>0</td>\n",
       "    </tr>\n",
       "    <tr>\n",
       "      <th>4</th>\n",
       "      <td>0000bae5480628cf8fe51ad84bcb39772fc79224</td>\n",
       "      <td>0</td>\n",
       "    </tr>\n",
       "  </tbody>\n",
       "</table>\n",
       "</div>"
      ],
      "text/plain": [
       "                                    user_id  CHURN\n",
       "0  00001dbe00e56fc4b1c1b65dda63de2a5ece55f9      0\n",
       "1  000055d41c8a62052dd426592e8a4a3342bf565d      0\n",
       "2  000081dd3245e6869a4a9c574c7050e7bb84c2c8      0\n",
       "3  0000b76d2145d9445d9ff6b65c9ebc4196c89337      0\n",
       "4  0000bae5480628cf8fe51ad84bcb39772fc79224      0"
      ]
     },
     "execution_count": 57,
     "metadata": {},
     "output_type": "execute_result"
    }
   ],
   "source": [
    "submission_df = pd.read_csv('SampleSubmission.csv')\n",
    "submission_df.head()"
   ]
  },
  {
   "cell_type": "markdown",
   "metadata": {},
   "source": [
    "We want to replace those 0s with our predictions. But first, we need to make sure that the rows of the submission file are in the same order as the test file. "
   ]
  },
  {
   "cell_type": "code",
   "execution_count": 58,
   "metadata": {},
   "outputs": [],
   "source": [
    "# Make sure we have the rows in the same order\n",
    "np.testing.assert_array_equal(test.index.values, \n",
    "                              submission_df.index.values)"
   ]
  },
  {
   "cell_type": "markdown",
   "metadata": {},
   "source": [
    "If nothing happended after running the cell above, you can can safely drop in the estimated values in the 'CHURN' column."
   ]
  },
  {
   "cell_type": "code",
   "execution_count": 59,
   "metadata": {},
   "outputs": [
    {
     "data": {
      "text/html": [
       "<div>\n",
       "<style scoped>\n",
       "    .dataframe tbody tr th:only-of-type {\n",
       "        vertical-align: middle;\n",
       "    }\n",
       "\n",
       "    .dataframe tbody tr th {\n",
       "        vertical-align: top;\n",
       "    }\n",
       "\n",
       "    .dataframe thead th {\n",
       "        text-align: right;\n",
       "    }\n",
       "</style>\n",
       "<table border=\"1\" class=\"dataframe\">\n",
       "  <thead>\n",
       "    <tr style=\"text-align: right;\">\n",
       "      <th></th>\n",
       "      <th>user_id</th>\n",
       "      <th>CHURN</th>\n",
       "    </tr>\n",
       "  </thead>\n",
       "  <tbody>\n",
       "    <tr>\n",
       "      <th>0</th>\n",
       "      <td>00001dbe00e56fc4b1c1b65dda63de2a5ece55f9</td>\n",
       "      <td>0.000985</td>\n",
       "    </tr>\n",
       "    <tr>\n",
       "      <th>1</th>\n",
       "      <td>000055d41c8a62052dd426592e8a4a3342bf565d</td>\n",
       "      <td>0.070882</td>\n",
       "    </tr>\n",
       "    <tr>\n",
       "      <th>2</th>\n",
       "      <td>000081dd3245e6869a4a9c574c7050e7bb84c2c8</td>\n",
       "      <td>0.001007</td>\n",
       "    </tr>\n",
       "    <tr>\n",
       "      <th>3</th>\n",
       "      <td>0000b76d2145d9445d9ff6b65c9ebc4196c89337</td>\n",
       "      <td>0.397649</td>\n",
       "    </tr>\n",
       "    <tr>\n",
       "      <th>4</th>\n",
       "      <td>0000bae5480628cf8fe51ad84bcb39772fc79224</td>\n",
       "      <td>0.373433</td>\n",
       "    </tr>\n",
       "  </tbody>\n",
       "</table>\n",
       "</div>"
      ],
      "text/plain": [
       "                                    user_id     CHURN\n",
       "0  00001dbe00e56fc4b1c1b65dda63de2a5ece55f9  0.000985\n",
       "1  000055d41c8a62052dd426592e8a4a3342bf565d  0.070882\n",
       "2  000081dd3245e6869a4a9c574c7050e7bb84c2c8  0.001007\n",
       "3  0000b76d2145d9445d9ff6b65c9ebc4196c89337  0.397649\n",
       "4  0000bae5480628cf8fe51ad84bcb39772fc79224  0.373433"
      ]
     },
     "execution_count": 59,
     "metadata": {},
     "output_type": "execute_result"
    }
   ],
   "source": [
    "# Save predictions to submission data frame\n",
    "submission_df[\"CHURN\"] = gb_test_probas[:, 1]\n",
    "\n",
    "submission_df.head()"
   ]
  },
  {
   "cell_type": "markdown",
   "metadata": {},
   "source": [
    "#### Saving the predictions to a CSV file"
   ]
  },
  {
   "cell_type": "code",
   "execution_count": 60,
   "metadata": {},
   "outputs": [],
   "source": [
    "submission_df.to_csv('mean_encode_XGB_submission2_final.csv', index=False)"
   ]
  },
  {
   "cell_type": "code",
   "execution_count": null,
   "metadata": {},
   "outputs": [],
   "source": []
  }
 ],
 "metadata": {
  "kernelspec": {
   "display_name": "Python 3",
   "language": "python",
   "name": "python3"
  },
  "language_info": {
   "codemirror_mode": {
    "name": "ipython",
    "version": 3
   },
   "file_extension": ".py",
   "mimetype": "text/x-python",
   "name": "python",
   "nbconvert_exporter": "python",
   "pygments_lexer": "ipython3",
   "version": "3.7.6"
  }
 },
 "nbformat": 4,
 "nbformat_minor": 4
}
