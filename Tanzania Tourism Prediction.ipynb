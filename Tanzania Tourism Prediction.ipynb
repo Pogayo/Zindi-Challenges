{
  "nbformat": 4,
  "nbformat_minor": 0,
  "metadata": {
    "kernelspec": {
      "name": "python3",
      "display_name": "Python 3",
      "language": "python"
    },
    "language_info": {
      "name": "python",
      "version": "3.7.6",
      "mimetype": "text/x-python",
      "codemirror_mode": {
        "name": "ipython",
        "version": 3
      },
      "pygments_lexer": "ipython3",
      "nbconvert_exporter": "python",
      "file_extension": ".py"
    },
    "colab": {
      "name": "Tourism-mean encodings 1.ipynb",
      "provenance": [],
      "collapsed_sections": []
    }
  },
  "cells": [
    {
      "cell_type": "code",
      "metadata": {
        "_uuid": "8f2839f25d086af736a60e9eeb907d3b93b6e0e5",
        "_cell_guid": "b1076dfc-b9ad-4769-8c92-a6c4dae69d19",
        "trusted": true,
        "id": "-tclMwbRBJfF"
      },
      "source": [
        "import numpy as np \n",
        "import pandas as pd \n",
        "import matplotlib.pyplot as plt\n",
        "%matplotlib inline\n",
        "import seaborn as sns\n",
        "import warnings\n",
        "warnings.filterwarnings(\"ignore\")\n",
        "pd.options.display.max_columns = None\n",
        "import os"
      ],
      "execution_count": 47,
      "outputs": []
    },
    {
      "cell_type": "code",
      "metadata": {
        "_uuid": "d629ff2d2480ee46fbb7e2d37f6b5fab8052498a",
        "_cell_guid": "79c7e3d0-c299-4dcb-8224-4455121ee9b0",
        "trusted": true,
        "id": "Ly5FNsVHBJfU"
      },
      "source": [
        "train_df=pd.read_csv(\"/content/Train.csv\")\n",
        "test_df=pd.read_csv(\"/content/Test.csv\")\n",
        "sub_df=pd.read_csv(\"/content/SampleSubmission.csv\")\n",
        "# descp=pd.read_csv(\"/content/VariableDefinitions.csv\")"
      ],
      "execution_count": 49,
      "outputs": []
    },
    {
      "cell_type": "code",
      "metadata": {
        "trusted": true,
        "colab": {
          "base_uri": "https://localhost:8080/",
          "height": 733
        },
        "id": "PUuk-oJlBJfV",
        "outputId": "5440fe29-6c92-4cbf-e385-77ce0a8fc90d"
      },
      "source": [
        "descp"
      ],
      "execution_count": null,
      "outputs": [
        {
          "output_type": "execute_result",
          "data": {
            "text/html": [
              "<div>\n",
              "<style scoped>\n",
              "    .dataframe tbody tr th:only-of-type {\n",
              "        vertical-align: middle;\n",
              "    }\n",
              "\n",
              "    .dataframe tbody tr th {\n",
              "        vertical-align: top;\n",
              "    }\n",
              "\n",
              "    .dataframe thead th {\n",
              "        text-align: right;\n",
              "    }\n",
              "</style>\n",
              "<table border=\"1\" class=\"dataframe\">\n",
              "  <thead>\n",
              "    <tr style=\"text-align: right;\">\n",
              "      <th></th>\n",
              "      <th>Column Name</th>\n",
              "      <th>Definition</th>\n",
              "    </tr>\n",
              "  </thead>\n",
              "  <tbody>\n",
              "    <tr>\n",
              "      <th>0</th>\n",
              "      <td>id</td>\n",
              "      <td>Unique identifier for each tourist</td>\n",
              "    </tr>\n",
              "    <tr>\n",
              "      <th>1</th>\n",
              "      <td>country</td>\n",
              "      <td>The country a tourist coming  from.</td>\n",
              "    </tr>\n",
              "    <tr>\n",
              "      <th>2</th>\n",
              "      <td>age_group</td>\n",
              "      <td>The age group of a tourist.</td>\n",
              "    </tr>\n",
              "    <tr>\n",
              "      <th>3</th>\n",
              "      <td>travel_with</td>\n",
              "      <td>The relation of people a tourist travel with t...</td>\n",
              "    </tr>\n",
              "    <tr>\n",
              "      <th>4</th>\n",
              "      <td>total_female</td>\n",
              "      <td>Total number of females</td>\n",
              "    </tr>\n",
              "    <tr>\n",
              "      <th>5</th>\n",
              "      <td>total_male</td>\n",
              "      <td>Total number of males</td>\n",
              "    </tr>\n",
              "    <tr>\n",
              "      <th>6</th>\n",
              "      <td>purpose</td>\n",
              "      <td>The purpose of visiting  Tanzania</td>\n",
              "    </tr>\n",
              "    <tr>\n",
              "      <th>7</th>\n",
              "      <td>main_activity</td>\n",
              "      <td>The main activity of tourism in Tanzania</td>\n",
              "    </tr>\n",
              "    <tr>\n",
              "      <th>8</th>\n",
              "      <td>infor_source</td>\n",
              "      <td>The source of information about tourism in Tan...</td>\n",
              "    </tr>\n",
              "    <tr>\n",
              "      <th>9</th>\n",
              "      <td>tour_arrangment</td>\n",
              "      <td>The arrangment of visiting Tanzania</td>\n",
              "    </tr>\n",
              "    <tr>\n",
              "      <th>10</th>\n",
              "      <td>package_transport_int</td>\n",
              "      <td>If the tour package include international tran...</td>\n",
              "    </tr>\n",
              "    <tr>\n",
              "      <th>11</th>\n",
              "      <td>package_accomodation</td>\n",
              "      <td>If the tour package include accommodation service</td>\n",
              "    </tr>\n",
              "    <tr>\n",
              "      <th>12</th>\n",
              "      <td>package_food</td>\n",
              "      <td>If the tour package include food service</td>\n",
              "    </tr>\n",
              "    <tr>\n",
              "      <th>13</th>\n",
              "      <td>package_transport_tz</td>\n",
              "      <td>If the tour package include transport service ...</td>\n",
              "    </tr>\n",
              "    <tr>\n",
              "      <th>14</th>\n",
              "      <td>package_sightseeing</td>\n",
              "      <td>If the tour package include sightseeing service</td>\n",
              "    </tr>\n",
              "    <tr>\n",
              "      <th>15</th>\n",
              "      <td>package_guided_tour</td>\n",
              "      <td>If the tour package include tour guide</td>\n",
              "    </tr>\n",
              "    <tr>\n",
              "      <th>16</th>\n",
              "      <td>package_insurance</td>\n",
              "      <td>if the tour package include insurance service</td>\n",
              "    </tr>\n",
              "    <tr>\n",
              "      <th>17</th>\n",
              "      <td>night_mainland</td>\n",
              "      <td>Number of nights a tourist spent in Tanzania m...</td>\n",
              "    </tr>\n",
              "    <tr>\n",
              "      <th>18</th>\n",
              "      <td>night_zanzibar</td>\n",
              "      <td>Number of nights a tourist spent in Zanzibar</td>\n",
              "    </tr>\n",
              "    <tr>\n",
              "      <th>19</th>\n",
              "      <td>payment_mode</td>\n",
              "      <td>The mode of payment for tourism service</td>\n",
              "    </tr>\n",
              "    <tr>\n",
              "      <th>20</th>\n",
              "      <td>first_trip_tz</td>\n",
              "      <td>If it was a first  trip to Tanzania</td>\n",
              "    </tr>\n",
              "    <tr>\n",
              "      <th>21</th>\n",
              "      <td>most_impressing</td>\n",
              "      <td>what impressed a toursit in Tanzania</td>\n",
              "    </tr>\n",
              "    <tr>\n",
              "      <th>22</th>\n",
              "      <td>total_cost</td>\n",
              "      <td>The total tourist expenditure  in TZS(currency)</td>\n",
              "    </tr>\n",
              "  </tbody>\n",
              "</table>\n",
              "</div>"
            ],
            "text/plain": [
              "              Column Name                                         Definition\n",
              "0                      id                 Unique identifier for each tourist\n",
              "1                 country                The country a tourist coming  from.\n",
              "2               age_group                        The age group of a tourist.\n",
              "3             travel_with  The relation of people a tourist travel with t...\n",
              "4            total_female                            Total number of females\n",
              "5              total_male                              Total number of males\n",
              "6                 purpose                  The purpose of visiting  Tanzania\n",
              "7           main_activity           The main activity of tourism in Tanzania\n",
              "8            infor_source  The source of information about tourism in Tan...\n",
              "9         tour_arrangment                The arrangment of visiting Tanzania\n",
              "10  package_transport_int  If the tour package include international tran...\n",
              "11   package_accomodation  If the tour package include accommodation service\n",
              "12           package_food           If the tour package include food service\n",
              "13   package_transport_tz  If the tour package include transport service ...\n",
              "14    package_sightseeing    If the tour package include sightseeing service\n",
              "15    package_guided_tour             If the tour package include tour guide\n",
              "16      package_insurance      if the tour package include insurance service\n",
              "17         night_mainland  Number of nights a tourist spent in Tanzania m...\n",
              "18         night_zanzibar       Number of nights a tourist spent in Zanzibar\n",
              "19           payment_mode            The mode of payment for tourism service\n",
              "20          first_trip_tz                If it was a first  trip to Tanzania\n",
              "21        most_impressing               what impressed a toursit in Tanzania\n",
              "22             total_cost    The total tourist expenditure  in TZS(currency)"
            ]
          },
          "metadata": {
            "tags": []
          },
          "execution_count": 11
        }
      ]
    },
    {
      "cell_type": "markdown",
      "metadata": {
        "id": "x2o9Bdlvvz6M"
      },
      "source": [
        "## Data Exploration and Feature Engineering"
      ]
    },
    {
      "cell_type": "code",
      "metadata": {
        "trusted": true,
        "id": "ctyYqlNSBJfW",
        "colab": {
          "base_uri": "https://localhost:8080/"
        },
        "outputId": "a8ed04a0-d0e3-4973-c136-14688329f405"
      },
      "source": [
        "print(\"Size of train\",train_df.shape)\n",
        "print(\"Size of test\",test_df.shape)"
      ],
      "execution_count": 50,
      "outputs": [
        {
          "output_type": "stream",
          "text": [
            "Size of train (4809, 23)\n",
            "Size of test (1601, 22)\n"
          ],
          "name": "stdout"
        }
      ]
    },
    {
      "cell_type": "code",
      "metadata": {
        "trusted": true,
        "colab": {
          "base_uri": "https://localhost:8080/",
          "height": 417
        },
        "id": "ORsPIrjhBJfX",
        "outputId": "6a488de8-ef9b-4724-aa6e-f045c1dd9e84"
      },
      "source": [
        "train_df.head()"
      ],
      "execution_count": 51,
      "outputs": [
        {
          "output_type": "execute_result",
          "data": {
            "text/html": [
              "<div>\n",
              "<style scoped>\n",
              "    .dataframe tbody tr th:only-of-type {\n",
              "        vertical-align: middle;\n",
              "    }\n",
              "\n",
              "    .dataframe tbody tr th {\n",
              "        vertical-align: top;\n",
              "    }\n",
              "\n",
              "    .dataframe thead th {\n",
              "        text-align: right;\n",
              "    }\n",
              "</style>\n",
              "<table border=\"1\" class=\"dataframe\">\n",
              "  <thead>\n",
              "    <tr style=\"text-align: right;\">\n",
              "      <th></th>\n",
              "      <th>ID</th>\n",
              "      <th>country</th>\n",
              "      <th>age_group</th>\n",
              "      <th>travel_with</th>\n",
              "      <th>total_female</th>\n",
              "      <th>total_male</th>\n",
              "      <th>purpose</th>\n",
              "      <th>main_activity</th>\n",
              "      <th>info_source</th>\n",
              "      <th>tour_arrangement</th>\n",
              "      <th>package_transport_int</th>\n",
              "      <th>package_accomodation</th>\n",
              "      <th>package_food</th>\n",
              "      <th>package_transport_tz</th>\n",
              "      <th>package_sightseeing</th>\n",
              "      <th>package_guided_tour</th>\n",
              "      <th>package_insurance</th>\n",
              "      <th>night_mainland</th>\n",
              "      <th>night_zanzibar</th>\n",
              "      <th>payment_mode</th>\n",
              "      <th>first_trip_tz</th>\n",
              "      <th>most_impressing</th>\n",
              "      <th>total_cost</th>\n",
              "    </tr>\n",
              "  </thead>\n",
              "  <tbody>\n",
              "    <tr>\n",
              "      <th>0</th>\n",
              "      <td>tour_0</td>\n",
              "      <td>SWIZERLAND</td>\n",
              "      <td>45-64</td>\n",
              "      <td>Friends/Relatives</td>\n",
              "      <td>1.0</td>\n",
              "      <td>1.0</td>\n",
              "      <td>Leisure and Holidays</td>\n",
              "      <td>Wildlife tourism</td>\n",
              "      <td>Friends, relatives</td>\n",
              "      <td>Independent</td>\n",
              "      <td>No</td>\n",
              "      <td>No</td>\n",
              "      <td>No</td>\n",
              "      <td>No</td>\n",
              "      <td>No</td>\n",
              "      <td>No</td>\n",
              "      <td>No</td>\n",
              "      <td>13.0</td>\n",
              "      <td>0.0</td>\n",
              "      <td>Cash</td>\n",
              "      <td>No</td>\n",
              "      <td>Friendly People</td>\n",
              "      <td>674602.5</td>\n",
              "    </tr>\n",
              "    <tr>\n",
              "      <th>1</th>\n",
              "      <td>tour_10</td>\n",
              "      <td>UNITED KINGDOM</td>\n",
              "      <td>25-44</td>\n",
              "      <td>NaN</td>\n",
              "      <td>1.0</td>\n",
              "      <td>0.0</td>\n",
              "      <td>Leisure and Holidays</td>\n",
              "      <td>Cultural tourism</td>\n",
              "      <td>others</td>\n",
              "      <td>Independent</td>\n",
              "      <td>No</td>\n",
              "      <td>No</td>\n",
              "      <td>No</td>\n",
              "      <td>No</td>\n",
              "      <td>No</td>\n",
              "      <td>No</td>\n",
              "      <td>No</td>\n",
              "      <td>14.0</td>\n",
              "      <td>7.0</td>\n",
              "      <td>Cash</td>\n",
              "      <td>Yes</td>\n",
              "      <td>Wonderful Country, Landscape, Nature</td>\n",
              "      <td>3214906.5</td>\n",
              "    </tr>\n",
              "    <tr>\n",
              "      <th>2</th>\n",
              "      <td>tour_1000</td>\n",
              "      <td>UNITED KINGDOM</td>\n",
              "      <td>25-44</td>\n",
              "      <td>Alone</td>\n",
              "      <td>0.0</td>\n",
              "      <td>1.0</td>\n",
              "      <td>Visiting Friends and Relatives</td>\n",
              "      <td>Cultural tourism</td>\n",
              "      <td>Friends, relatives</td>\n",
              "      <td>Independent</td>\n",
              "      <td>No</td>\n",
              "      <td>No</td>\n",
              "      <td>No</td>\n",
              "      <td>No</td>\n",
              "      <td>No</td>\n",
              "      <td>No</td>\n",
              "      <td>No</td>\n",
              "      <td>1.0</td>\n",
              "      <td>31.0</td>\n",
              "      <td>Cash</td>\n",
              "      <td>No</td>\n",
              "      <td>Excellent Experience</td>\n",
              "      <td>3315000.0</td>\n",
              "    </tr>\n",
              "    <tr>\n",
              "      <th>3</th>\n",
              "      <td>tour_1002</td>\n",
              "      <td>UNITED KINGDOM</td>\n",
              "      <td>25-44</td>\n",
              "      <td>Spouse</td>\n",
              "      <td>1.0</td>\n",
              "      <td>1.0</td>\n",
              "      <td>Leisure and Holidays</td>\n",
              "      <td>Wildlife tourism</td>\n",
              "      <td>Travel, agent, tour operator</td>\n",
              "      <td>Package Tour</td>\n",
              "      <td>No</td>\n",
              "      <td>Yes</td>\n",
              "      <td>Yes</td>\n",
              "      <td>Yes</td>\n",
              "      <td>Yes</td>\n",
              "      <td>Yes</td>\n",
              "      <td>No</td>\n",
              "      <td>11.0</td>\n",
              "      <td>0.0</td>\n",
              "      <td>Cash</td>\n",
              "      <td>Yes</td>\n",
              "      <td>Friendly People</td>\n",
              "      <td>7790250.0</td>\n",
              "    </tr>\n",
              "    <tr>\n",
              "      <th>4</th>\n",
              "      <td>tour_1004</td>\n",
              "      <td>CHINA</td>\n",
              "      <td>1-24</td>\n",
              "      <td>NaN</td>\n",
              "      <td>1.0</td>\n",
              "      <td>0.0</td>\n",
              "      <td>Leisure and Holidays</td>\n",
              "      <td>Wildlife tourism</td>\n",
              "      <td>Travel, agent, tour operator</td>\n",
              "      <td>Independent</td>\n",
              "      <td>No</td>\n",
              "      <td>No</td>\n",
              "      <td>No</td>\n",
              "      <td>No</td>\n",
              "      <td>No</td>\n",
              "      <td>No</td>\n",
              "      <td>No</td>\n",
              "      <td>7.0</td>\n",
              "      <td>4.0</td>\n",
              "      <td>Cash</td>\n",
              "      <td>Yes</td>\n",
              "      <td>No comments</td>\n",
              "      <td>1657500.0</td>\n",
              "    </tr>\n",
              "  </tbody>\n",
              "</table>\n",
              "</div>"
            ],
            "text/plain": [
              "          ID         country age_group        travel_with  total_female  \\\n",
              "0     tour_0      SWIZERLAND     45-64  Friends/Relatives           1.0   \n",
              "1    tour_10  UNITED KINGDOM     25-44                NaN           1.0   \n",
              "2  tour_1000  UNITED KINGDOM     25-44              Alone           0.0   \n",
              "3  tour_1002  UNITED KINGDOM     25-44             Spouse           1.0   \n",
              "4  tour_1004           CHINA      1-24                NaN           1.0   \n",
              "\n",
              "   total_male                         purpose     main_activity  \\\n",
              "0         1.0            Leisure and Holidays  Wildlife tourism   \n",
              "1         0.0            Leisure and Holidays  Cultural tourism   \n",
              "2         1.0  Visiting Friends and Relatives  Cultural tourism   \n",
              "3         1.0            Leisure and Holidays  Wildlife tourism   \n",
              "4         0.0            Leisure and Holidays  Wildlife tourism   \n",
              "\n",
              "                    info_source tour_arrangement package_transport_int  \\\n",
              "0            Friends, relatives      Independent                    No   \n",
              "1                        others      Independent                    No   \n",
              "2            Friends, relatives      Independent                    No   \n",
              "3  Travel, agent, tour operator     Package Tour                    No   \n",
              "4  Travel, agent, tour operator      Independent                    No   \n",
              "\n",
              "  package_accomodation package_food package_transport_tz package_sightseeing  \\\n",
              "0                   No           No                   No                  No   \n",
              "1                   No           No                   No                  No   \n",
              "2                   No           No                   No                  No   \n",
              "3                  Yes          Yes                  Yes                 Yes   \n",
              "4                   No           No                   No                  No   \n",
              "\n",
              "  package_guided_tour package_insurance  night_mainland  night_zanzibar  \\\n",
              "0                  No                No            13.0             0.0   \n",
              "1                  No                No            14.0             7.0   \n",
              "2                  No                No             1.0            31.0   \n",
              "3                 Yes                No            11.0             0.0   \n",
              "4                  No                No             7.0             4.0   \n",
              "\n",
              "  payment_mode first_trip_tz                       most_impressing  total_cost  \n",
              "0         Cash            No                       Friendly People    674602.5  \n",
              "1         Cash           Yes  Wonderful Country, Landscape, Nature   3214906.5  \n",
              "2         Cash            No                  Excellent Experience   3315000.0  \n",
              "3         Cash           Yes                       Friendly People   7790250.0  \n",
              "4         Cash           Yes                           No comments   1657500.0  "
            ]
          },
          "metadata": {
            "tags": []
          },
          "execution_count": 51
        }
      ]
    },
    {
      "cell_type": "code",
      "metadata": {
        "colab": {
          "base_uri": "https://localhost:8080/"
        },
        "id": "cPjVDDyXhMCG",
        "outputId": "2c6befd8-73d7-42c6-c115-cd406fa72246"
      },
      "source": [
        "train_df.shape"
      ],
      "execution_count": 52,
      "outputs": [
        {
          "output_type": "execute_result",
          "data": {
            "text/plain": [
              "(4809, 23)"
            ]
          },
          "metadata": {
            "tags": []
          },
          "execution_count": 52
        }
      ]
    },
    {
      "cell_type": "code",
      "metadata": {
        "colab": {
          "base_uri": "https://localhost:8080/"
        },
        "id": "EyN6CWj0ISsx",
        "outputId": "a3ae3b09-4576-485f-b9f7-e9634d59996c"
      },
      "source": [
        "train_df[\"age_group\"].value_counts()"
      ],
      "execution_count": 53,
      "outputs": [
        {
          "output_type": "execute_result",
          "data": {
            "text/plain": [
              "25-44    2487\n",
              "45-64    1391\n",
              "1-24      624\n",
              "65+       307\n",
              "Name: age_group, dtype: int64"
            ]
          },
          "metadata": {
            "tags": []
          },
          "execution_count": 53
        }
      ]
    },
    {
      "cell_type": "code",
      "metadata": {
        "trusted": true,
        "id": "enmjlWg2BJfd"
      },
      "source": [
        "## convert float dtypes to int\n",
        "\n",
        "def convert_int(cols, df):\n",
        "  for col in cols:\n",
        "    # df[col]=df[col].astype('int')\n",
        "    df[col] = df[col].fillna(0)\n",
        "    df[col] = df[col].astype(int)\n",
        "\n",
        "int_cols=[\"total_female\", \"total_male\", \"night_mainland\", \"night_zanzibar\"]\n",
        "\n",
        "convert_int(int_cols, train_df)\n",
        "convert_int(int_cols, test_df)\n",
        "\n"
      ],
      "execution_count": 54,
      "outputs": []
    },
    {
      "cell_type": "code",
      "metadata": {
        "colab": {
          "base_uri": "https://localhost:8080/"
        },
        "id": "98wmZi6H_xdy",
        "outputId": "2597dcec-80b5-4bed-eaea-5798ab0a51d6"
      },
      "source": [
        "train_df[\"total_female\"].value_counts()"
      ],
      "execution_count": 55,
      "outputs": [
        {
          "output_type": "execute_result",
          "data": {
            "text/plain": [
              "1     2418\n",
              "0     1672\n",
              "2      463\n",
              "3      144\n",
              "4       46\n",
              "5       25\n",
              "6       15\n",
              "7       10\n",
              "10       4\n",
              "9        4\n",
              "11       3\n",
              "12       3\n",
              "15       1\n",
              "49       1\n",
              "Name: total_female, dtype: int64"
            ]
          },
          "metadata": {
            "tags": []
          },
          "execution_count": 55
        }
      ]
    },
    {
      "cell_type": "code",
      "metadata": {
        "id": "nnZ2Wes4eoAP"
      },
      "source": [
        "#feature engineering\r\n",
        "train_df[\"total_persons\"] = train_df[\"total_female\"] + train_df[\"total_male\"]\r\n",
        "train_df[\"total_nights_spent\"] = train_df[\"night_mainland\"] + train_df[\"night_zanzibar\"]\r\n",
        "train_df[\"below_25\"] = (train_df[\"age_group\"]==\"1-24\").astype(int)\r\n",
        "\r\n",
        "#On test set\r\n",
        "test_df[\"total_persons\"] = test_df[\"total_female\"] + test_df[\"total_male\"]\r\n",
        "test_df[\"total_nights_spent\"] = test_df[\"night_mainland\"] + test_df[\"night_zanzibar\"]\r\n",
        "test_df[\"below_25\"] = (test_df[\"age_group\"]==\"1-24\").astype(int)\r\n"
      ],
      "execution_count": 56,
      "outputs": []
    },
    {
      "cell_type": "code",
      "metadata": {
        "trusted": true,
        "id": "CvBvRqkjBJfe"
      },
      "source": [
        "#Modelling\n",
        "feat_cols = train_df.drop([\"ID\",\"total_cost\"],1)\n",
        "cols = feat_cols.columns\n",
        "target=train_df[\"total_cost\"]"
      ],
      "execution_count": 57,
      "outputs": []
    },
    {
      "cell_type": "code",
      "metadata": {
        "trusted": true,
        "id": "yXZS85dxBJfe"
      },
      "source": [
        "from sklearn.model_selection import train_test_split\n",
        "from sklearn.model_selection import KFold, cross_val_score"
      ],
      "execution_count": 58,
      "outputs": []
    },
    {
      "cell_type": "code",
      "metadata": {
        "id": "mxiqKQWkVlKH"
      },
      "source": [
        "X_train, X_eval, y_train, y_eval = train_test_split(\r\n",
        "    train_df[cols],\r\n",
        "    target,\r\n",
        "    test_size=0.20,\r\n",
        "    shuffle=True,\r\n",
        "    random_state=23\r\n",
        ")"
      ],
      "execution_count": 59,
      "outputs": []
    },
    {
      "cell_type": "markdown",
      "metadata": {
        "id": "JHw7ks8HwJfN"
      },
      "source": [
        "### Mean encode categorical variables"
      ]
    },
    {
      "cell_type": "code",
      "metadata": {
        "id": "0Ks1-szYXQzS"
      },
      "source": [
        "cat_cols=list(X_train.select_dtypes(include=['object']).columns)"
      ],
      "execution_count": 60,
      "outputs": []
    },
    {
      "cell_type": "code",
      "metadata": {
        "id": "4DMBjGWuYXkB"
      },
      "source": [
        "\r\n",
        "X_tr=X_train.copy()\r\n",
        "X_tr[\"target\"]=y_train\r\n",
        "\r\n",
        "X_val=X_eval.copy()\r\n",
        "X_val[\"target\"]=y_eval\r\n",
        "\r\n",
        "for col in cat_cols:\r\n",
        "  means=X_tr.groupby(col).target.mean()\r\n",
        "  X_tr[col+\" mean_target\"]=X_train[col].map(means)\r\n",
        "  X_val[col+\" mean_target\"]=X_eval[col].map(means)"
      ],
      "execution_count": 61,
      "outputs": []
    },
    {
      "cell_type": "markdown",
      "metadata": {
        "id": "--W-d5KEwbIj"
      },
      "source": [
        "####Do the same for the full train dataset that we will use in the final model"
      ]
    },
    {
      "cell_type": "code",
      "metadata": {
        "id": "XUBbKs7CY3Nk"
      },
      "source": [
        "full_tr=train_df.copy()\r\n",
        "\r\n",
        "X_test=test_df.copy()\r\n",
        "\r\n",
        "for col in cat_cols:\r\n",
        "  means=full_tr.groupby(col).total_cost.mean()\r\n",
        "  full_tr[col+\" mean_target\"]=train_df[col].map(means)\r\n",
        "  X_test[col+\" mean_target\"]=X_test[col].map(means)"
      ],
      "execution_count": 62,
      "outputs": []
    },
    {
      "cell_type": "markdown",
      "metadata": {
        "id": "jOoK6EYiwX-y"
      },
      "source": [
        "####Drop the categorical variables"
      ]
    },
    {
      "cell_type": "code",
      "metadata": {
        "id": "QqBXVgMcZroH"
      },
      "source": [
        "drop_cols=cat_cols"
      ],
      "execution_count": 63,
      "outputs": []
    },
    {
      "cell_type": "code",
      "metadata": {
        "id": "F9p9gcskZzYG"
      },
      "source": [
        "for col in drop_cols:\r\n",
        "\r\n",
        "    X_train.drop(col, inplace=True,axis=1)\r\n",
        "    X_train[col+\" mean_target\"]=X_tr[col+\" mean_target\"]\r\n",
        "\r\n",
        "    X_eval.drop(col, inplace=True, axis=1)\r\n",
        "    X_eval[col+\" mean_target\"]=X_val[col+\" mean_target\"]"
      ],
      "execution_count": 64,
      "outputs": []
    },
    {
      "cell_type": "code",
      "metadata": {
        "colab": {
          "base_uri": "https://localhost:8080/",
          "height": 233
        },
        "id": "D8pygXUMal1X",
        "outputId": "3d5bf0c9-bb66-4843-bf9b-f3f8147909c2"
      },
      "source": [
        "X_eval.head()"
      ],
      "execution_count": 65,
      "outputs": [
        {
          "output_type": "execute_result",
          "data": {
            "text/html": [
              "<div>\n",
              "<style scoped>\n",
              "    .dataframe tbody tr th:only-of-type {\n",
              "        vertical-align: middle;\n",
              "    }\n",
              "\n",
              "    .dataframe tbody tr th {\n",
              "        vertical-align: top;\n",
              "    }\n",
              "\n",
              "    .dataframe thead th {\n",
              "        text-align: right;\n",
              "    }\n",
              "</style>\n",
              "<table border=\"1\" class=\"dataframe\">\n",
              "  <thead>\n",
              "    <tr style=\"text-align: right;\">\n",
              "      <th></th>\n",
              "      <th>total_female</th>\n",
              "      <th>total_male</th>\n",
              "      <th>night_mainland</th>\n",
              "      <th>night_zanzibar</th>\n",
              "      <th>total_persons</th>\n",
              "      <th>total_nights_spent</th>\n",
              "      <th>below_25</th>\n",
              "      <th>country mean_target</th>\n",
              "      <th>age_group mean_target</th>\n",
              "      <th>travel_with mean_target</th>\n",
              "      <th>purpose mean_target</th>\n",
              "      <th>main_activity mean_target</th>\n",
              "      <th>info_source mean_target</th>\n",
              "      <th>tour_arrangement mean_target</th>\n",
              "      <th>package_transport_int mean_target</th>\n",
              "      <th>package_accomodation mean_target</th>\n",
              "      <th>package_food mean_target</th>\n",
              "      <th>package_transport_tz mean_target</th>\n",
              "      <th>package_sightseeing mean_target</th>\n",
              "      <th>package_guided_tour mean_target</th>\n",
              "      <th>package_insurance mean_target</th>\n",
              "      <th>payment_mode mean_target</th>\n",
              "      <th>first_trip_tz mean_target</th>\n",
              "      <th>most_impressing mean_target</th>\n",
              "    </tr>\n",
              "  </thead>\n",
              "  <tbody>\n",
              "    <tr>\n",
              "      <th>2614</th>\n",
              "      <td>2</td>\n",
              "      <td>0</td>\n",
              "      <td>6</td>\n",
              "      <td>0</td>\n",
              "      <td>2</td>\n",
              "      <td>6</td>\n",
              "      <td>0</td>\n",
              "      <td>9.741297e+06</td>\n",
              "      <td>1.089404e+07</td>\n",
              "      <td>1.023045e+07</td>\n",
              "      <td>3.262994e+06</td>\n",
              "      <td>4.092298e+06</td>\n",
              "      <td>4.368185e+06</td>\n",
              "      <td>2.649494e+06</td>\n",
              "      <td>4.560164e+06</td>\n",
              "      <td>2.818900e+06</td>\n",
              "      <td>3.434822e+06</td>\n",
              "      <td>3.773705e+06</td>\n",
              "      <td>4.733525e+06</td>\n",
              "      <td>4.914539e+06</td>\n",
              "      <td>6.675155e+06</td>\n",
              "      <td>7.658532e+06</td>\n",
              "      <td>1.005534e+07</td>\n",
              "      <td>7.879783e+06</td>\n",
              "    </tr>\n",
              "    <tr>\n",
              "      <th>3998</th>\n",
              "      <td>0</td>\n",
              "      <td>1</td>\n",
              "      <td>5</td>\n",
              "      <td>4</td>\n",
              "      <td>1</td>\n",
              "      <td>9</td>\n",
              "      <td>0</td>\n",
              "      <td>7.069767e+06</td>\n",
              "      <td>5.891898e+06</td>\n",
              "      <td>3.332672e+06</td>\n",
              "      <td>1.193922e+07</td>\n",
              "      <td>8.760690e+06</td>\n",
              "      <td>6.058200e+06</td>\n",
              "      <td>1.421433e+07</td>\n",
              "      <td>1.608948e+07</td>\n",
              "      <td>1.420482e+07</td>\n",
              "      <td>1.427121e+07</td>\n",
              "      <td>1.466528e+07</td>\n",
              "      <td>1.542426e+07</td>\n",
              "      <td>1.470236e+07</td>\n",
              "      <td>1.578925e+07</td>\n",
              "      <td>7.658532e+06</td>\n",
              "      <td>1.005534e+07</td>\n",
              "      <td>6.680328e+06</td>\n",
              "    </tr>\n",
              "    <tr>\n",
              "      <th>1753</th>\n",
              "      <td>0</td>\n",
              "      <td>1</td>\n",
              "      <td>14</td>\n",
              "      <td>2</td>\n",
              "      <td>1</td>\n",
              "      <td>16</td>\n",
              "      <td>0</td>\n",
              "      <td>1.252736e+07</td>\n",
              "      <td>1.089404e+07</td>\n",
              "      <td>3.332672e+06</td>\n",
              "      <td>3.262994e+06</td>\n",
              "      <td>1.052536e+07</td>\n",
              "      <td>1.312651e+07</td>\n",
              "      <td>1.421433e+07</td>\n",
              "      <td>4.560164e+06</td>\n",
              "      <td>1.420482e+07</td>\n",
              "      <td>1.427121e+07</td>\n",
              "      <td>1.466528e+07</td>\n",
              "      <td>4.733525e+06</td>\n",
              "      <td>4.914539e+06</td>\n",
              "      <td>6.675155e+06</td>\n",
              "      <td>7.658532e+06</td>\n",
              "      <td>1.005534e+07</td>\n",
              "      <td>7.817298e+06</td>\n",
              "    </tr>\n",
              "    <tr>\n",
              "      <th>1513</th>\n",
              "      <td>0</td>\n",
              "      <td>1</td>\n",
              "      <td>23</td>\n",
              "      <td>0</td>\n",
              "      <td>1</td>\n",
              "      <td>23</td>\n",
              "      <td>0</td>\n",
              "      <td>1.354819e+06</td>\n",
              "      <td>1.089404e+07</td>\n",
              "      <td>3.332672e+06</td>\n",
              "      <td>1.616978e+06</td>\n",
              "      <td>1.842626e+06</td>\n",
              "      <td>6.058200e+06</td>\n",
              "      <td>1.421433e+07</td>\n",
              "      <td>1.608948e+07</td>\n",
              "      <td>1.420482e+07</td>\n",
              "      <td>1.427121e+07</td>\n",
              "      <td>1.466528e+07</td>\n",
              "      <td>4.733525e+06</td>\n",
              "      <td>4.914539e+06</td>\n",
              "      <td>6.675155e+06</td>\n",
              "      <td>7.658532e+06</td>\n",
              "      <td>3.883777e+06</td>\n",
              "      <td>NaN</td>\n",
              "    </tr>\n",
              "    <tr>\n",
              "      <th>2446</th>\n",
              "      <td>0</td>\n",
              "      <td>1</td>\n",
              "      <td>2</td>\n",
              "      <td>0</td>\n",
              "      <td>1</td>\n",
              "      <td>2</td>\n",
              "      <td>0</td>\n",
              "      <td>1.349215e+06</td>\n",
              "      <td>5.891898e+06</td>\n",
              "      <td>3.332672e+06</td>\n",
              "      <td>1.708193e+06</td>\n",
              "      <td>1.052536e+07</td>\n",
              "      <td>6.058200e+06</td>\n",
              "      <td>2.649494e+06</td>\n",
              "      <td>4.560164e+06</td>\n",
              "      <td>2.818900e+06</td>\n",
              "      <td>3.434822e+06</td>\n",
              "      <td>3.773705e+06</td>\n",
              "      <td>4.733525e+06</td>\n",
              "      <td>4.914539e+06</td>\n",
              "      <td>6.675155e+06</td>\n",
              "      <td>7.658532e+06</td>\n",
              "      <td>3.883777e+06</td>\n",
              "      <td>7.879783e+06</td>\n",
              "    </tr>\n",
              "  </tbody>\n",
              "</table>\n",
              "</div>"
            ],
            "text/plain": [
              "      total_female  total_male  night_mainland  night_zanzibar  total_persons  \\\n",
              "2614             2           0               6               0              2   \n",
              "3998             0           1               5               4              1   \n",
              "1753             0           1              14               2              1   \n",
              "1513             0           1              23               0              1   \n",
              "2446             0           1               2               0              1   \n",
              "\n",
              "      total_nights_spent  below_25  country mean_target  \\\n",
              "2614                   6         0         9.741297e+06   \n",
              "3998                   9         0         7.069767e+06   \n",
              "1753                  16         0         1.252736e+07   \n",
              "1513                  23         0         1.354819e+06   \n",
              "2446                   2         0         1.349215e+06   \n",
              "\n",
              "      age_group mean_target  travel_with mean_target  purpose mean_target  \\\n",
              "2614           1.089404e+07             1.023045e+07         3.262994e+06   \n",
              "3998           5.891898e+06             3.332672e+06         1.193922e+07   \n",
              "1753           1.089404e+07             3.332672e+06         3.262994e+06   \n",
              "1513           1.089404e+07             3.332672e+06         1.616978e+06   \n",
              "2446           5.891898e+06             3.332672e+06         1.708193e+06   \n",
              "\n",
              "      main_activity mean_target  info_source mean_target  \\\n",
              "2614               4.092298e+06             4.368185e+06   \n",
              "3998               8.760690e+06             6.058200e+06   \n",
              "1753               1.052536e+07             1.312651e+07   \n",
              "1513               1.842626e+06             6.058200e+06   \n",
              "2446               1.052536e+07             6.058200e+06   \n",
              "\n",
              "      tour_arrangement mean_target  package_transport_int mean_target  \\\n",
              "2614                  2.649494e+06                       4.560164e+06   \n",
              "3998                  1.421433e+07                       1.608948e+07   \n",
              "1753                  1.421433e+07                       4.560164e+06   \n",
              "1513                  1.421433e+07                       1.608948e+07   \n",
              "2446                  2.649494e+06                       4.560164e+06   \n",
              "\n",
              "      package_accomodation mean_target  package_food mean_target  \\\n",
              "2614                      2.818900e+06              3.434822e+06   \n",
              "3998                      1.420482e+07              1.427121e+07   \n",
              "1753                      1.420482e+07              1.427121e+07   \n",
              "1513                      1.420482e+07              1.427121e+07   \n",
              "2446                      2.818900e+06              3.434822e+06   \n",
              "\n",
              "      package_transport_tz mean_target  package_sightseeing mean_target  \\\n",
              "2614                      3.773705e+06                     4.733525e+06   \n",
              "3998                      1.466528e+07                     1.542426e+07   \n",
              "1753                      1.466528e+07                     4.733525e+06   \n",
              "1513                      1.466528e+07                     4.733525e+06   \n",
              "2446                      3.773705e+06                     4.733525e+06   \n",
              "\n",
              "      package_guided_tour mean_target  package_insurance mean_target  \\\n",
              "2614                     4.914539e+06                   6.675155e+06   \n",
              "3998                     1.470236e+07                   1.578925e+07   \n",
              "1753                     4.914539e+06                   6.675155e+06   \n",
              "1513                     4.914539e+06                   6.675155e+06   \n",
              "2446                     4.914539e+06                   6.675155e+06   \n",
              "\n",
              "      payment_mode mean_target  first_trip_tz mean_target  \\\n",
              "2614              7.658532e+06               1.005534e+07   \n",
              "3998              7.658532e+06               1.005534e+07   \n",
              "1753              7.658532e+06               1.005534e+07   \n",
              "1513              7.658532e+06               3.883777e+06   \n",
              "2446              7.658532e+06               3.883777e+06   \n",
              "\n",
              "      most_impressing mean_target  \n",
              "2614                 7.879783e+06  \n",
              "3998                 6.680328e+06  \n",
              "1753                 7.817298e+06  \n",
              "1513                          NaN  \n",
              "2446                 7.879783e+06  "
            ]
          },
          "metadata": {
            "tags": []
          },
          "execution_count": 65
        }
      ]
    },
    {
      "cell_type": "code",
      "metadata": {
        "id": "3RgCk-gLaB38"
      },
      "source": [
        "for col in drop_cols:\r\n",
        "    full_tr.drop(col, inplace=True,axis=1)\r\n",
        "    X_test.drop(col, inplace=True, axis=1)"
      ],
      "execution_count": 66,
      "outputs": []
    },
    {
      "cell_type": "code",
      "metadata": {
        "colab": {
          "base_uri": "https://localhost:8080/"
        },
        "id": "TpCWhPsphavO",
        "outputId": "fbca4704-033d-422e-d3a1-bd174c9267c7"
      },
      "source": [
        "X_train.columns"
      ],
      "execution_count": 67,
      "outputs": [
        {
          "output_type": "execute_result",
          "data": {
            "text/plain": [
              "Index(['total_female', 'total_male', 'night_mainland', 'night_zanzibar',\n",
              "       'total_persons', 'total_nights_spent', 'below_25',\n",
              "       'country mean_target', 'age_group mean_target',\n",
              "       'travel_with mean_target', 'purpose mean_target',\n",
              "       'main_activity mean_target', 'info_source mean_target',\n",
              "       'tour_arrangement mean_target', 'package_transport_int mean_target',\n",
              "       'package_accomodation mean_target', 'package_food mean_target',\n",
              "       'package_transport_tz mean_target', 'package_sightseeing mean_target',\n",
              "       'package_guided_tour mean_target', 'package_insurance mean_target',\n",
              "       'payment_mode mean_target', 'first_trip_tz mean_target',\n",
              "       'most_impressing mean_target'],\n",
              "      dtype='object')"
            ]
          },
          "metadata": {
            "tags": []
          },
          "execution_count": 67
        }
      ]
    },
    {
      "cell_type": "code",
      "metadata": {
        "trusted": true,
        "colab": {
          "base_uri": "https://localhost:8080/"
        },
        "id": "adXUYe7dBJfd",
        "outputId": "6692b43b-aa06-4056-dc09-6c304d099041"
      },
      "source": [
        "print(X_train.shape)\n",
        "print(X_eval.shape)"
      ],
      "execution_count": 68,
      "outputs": [
        {
          "output_type": "stream",
          "text": [
            "(3847, 24)\n",
            "(962, 24)\n"
          ],
          "name": "stdout"
        }
      ]
    },
    {
      "cell_type": "markdown",
      "metadata": {
        "id": "PoGVxhH2W991"
      },
      "source": [
        "## Build the model"
      ]
    },
    {
      "cell_type": "code",
      "metadata": {
        "trusted": true,
        "colab": {
          "base_uri": "https://localhost:8080/"
        },
        "id": "e-vK5ka6BJff",
        "outputId": "a47b4c1c-6e9e-4594-9c31-a2d4e2ed5b4f"
      },
      "source": [
        "from xgboost import XGBRegressor\n",
        "xgb=XGBRegressor( n_estimators= 300, learning_rate = 0.01, eval_metric=\"mae\", max_depth =7, random_state= 3, seed=23, subsample= 0.6, colsample_bytree=0.5, gamma=1)\n",
        "xgb.fit(X_train, y_train)\n",
        "y_pred = xgb.predict(X_eval)\n"
      ],
      "execution_count": 69,
      "outputs": [
        {
          "output_type": "stream",
          "text": [
            "[08:41:44] WARNING: /workspace/src/objective/regression_obj.cu:152: reg:linear is now deprecated in favor of reg:squarederror.\n"
          ],
          "name": "stdout"
        }
      ]
    },
    {
      "cell_type": "code",
      "metadata": {
        "colab": {
          "base_uri": "https://localhost:8080/"
        },
        "id": "YBKrIeDqh_qR",
        "outputId": "9a0ed8b4-4545-4b6e-d24a-58e5dbd2aca7"
      },
      "source": [
        "from sklearn.metrics import mean_absolute_error \r\n",
        "mae = mean_absolute_error(y_eval, y_pred)\r\n",
        "print('Error {}'.format(mae))"
      ],
      "execution_count": 70,
      "outputs": [
        {
          "output_type": "stream",
          "text": [
            "Error 5055825.587744023\n"
          ],
          "name": "stdout"
        }
      ]
    },
    {
      "cell_type": "markdown",
      "metadata": {
        "id": "Deu2MrD1bUGO"
      },
      "source": [
        "Training on the full dataset"
      ]
    },
    {
      "cell_type": "code",
      "metadata": {
        "colab": {
          "base_uri": "https://localhost:8080/"
        },
        "id": "BQaWdSk6bSYd",
        "outputId": "08d5925c-c81a-431c-9839-72a0927645a2"
      },
      "source": [
        "xgb_full=XGBRegressor( n_estimators= 300,learning_rate = 0.01,eval_metric=\"mae\", max_depth =7, random_state= 3, seed=23, subsample= 0.6,colsample_bytree=0.5, gamma=1 )\r\n",
        "xgb_full.fit(full_tr.drop([\"total_cost\",\"ID\"], axis=1), full_tr[\"total_cost\"])\r\n",
        "y_pred_full = xgb_full.predict(X_test.drop(\"ID\", axis=1))"
      ],
      "execution_count": 71,
      "outputs": [
        {
          "output_type": "stream",
          "text": [
            "[08:42:09] WARNING: /workspace/src/objective/regression_obj.cu:152: reg:linear is now deprecated in favor of reg:squarederror.\n"
          ],
          "name": "stdout"
        }
      ]
    },
    {
      "cell_type": "code",
      "metadata": {
        "trusted": true,
        "id": "33g3UZAhBJff"
      },
      "source": [
        "submission_df = pd.DataFrame({'ID': test_df.ID, 'total_cost': y_pred_full})\n",
        "submission_df.to_csv('mean_encodingbelow25-6-new-collab2.csv',index=False)"
      ],
      "execution_count": 74,
      "outputs": []
    },
    {
      "cell_type": "code",
      "metadata": {
        "trusted": true,
        "colab": {
          "base_uri": "https://localhost:8080/",
          "height": 404
        },
        "id": "XH6gzX7vBJfi",
        "outputId": "2497b51b-cabb-43c8-8879-3d3fb0c52ad8"
      },
      "source": [
        "submission_df"
      ],
      "execution_count": 73,
      "outputs": [
        {
          "output_type": "execute_result",
          "data": {
            "text/html": [
              "<div>\n",
              "<style scoped>\n",
              "    .dataframe tbody tr th:only-of-type {\n",
              "        vertical-align: middle;\n",
              "    }\n",
              "\n",
              "    .dataframe tbody tr th {\n",
              "        vertical-align: top;\n",
              "    }\n",
              "\n",
              "    .dataframe thead th {\n",
              "        text-align: right;\n",
              "    }\n",
              "</style>\n",
              "<table border=\"1\" class=\"dataframe\">\n",
              "  <thead>\n",
              "    <tr style=\"text-align: right;\">\n",
              "      <th></th>\n",
              "      <th>ID</th>\n",
              "      <th>total_cost</th>\n",
              "    </tr>\n",
              "  </thead>\n",
              "  <tbody>\n",
              "    <tr>\n",
              "      <th>0</th>\n",
              "      <td>tour_1</td>\n",
              "      <td>2.138223e+07</td>\n",
              "    </tr>\n",
              "    <tr>\n",
              "      <th>1</th>\n",
              "      <td>tour_100</td>\n",
              "      <td>1.332125e+07</td>\n",
              "    </tr>\n",
              "    <tr>\n",
              "      <th>2</th>\n",
              "      <td>tour_1001</td>\n",
              "      <td>9.939004e+06</td>\n",
              "    </tr>\n",
              "    <tr>\n",
              "      <th>3</th>\n",
              "      <td>tour_1006</td>\n",
              "      <td>2.993766e+06</td>\n",
              "    </tr>\n",
              "    <tr>\n",
              "      <th>4</th>\n",
              "      <td>tour_1009</td>\n",
              "      <td>2.253369e+07</td>\n",
              "    </tr>\n",
              "    <tr>\n",
              "      <th>...</th>\n",
              "      <td>...</td>\n",
              "      <td>...</td>\n",
              "    </tr>\n",
              "    <tr>\n",
              "      <th>1596</th>\n",
              "      <td>tour_988</td>\n",
              "      <td>8.955044e+05</td>\n",
              "    </tr>\n",
              "    <tr>\n",
              "      <th>1597</th>\n",
              "      <td>tour_990</td>\n",
              "      <td>2.481826e+07</td>\n",
              "    </tr>\n",
              "    <tr>\n",
              "      <th>1598</th>\n",
              "      <td>tour_992</td>\n",
              "      <td>1.960139e+06</td>\n",
              "    </tr>\n",
              "    <tr>\n",
              "      <th>1599</th>\n",
              "      <td>tour_996</td>\n",
              "      <td>1.215919e+06</td>\n",
              "    </tr>\n",
              "    <tr>\n",
              "      <th>1600</th>\n",
              "      <td>tour_998</td>\n",
              "      <td>5.068072e+06</td>\n",
              "    </tr>\n",
              "  </tbody>\n",
              "</table>\n",
              "<p>1601 rows × 2 columns</p>\n",
              "</div>"
            ],
            "text/plain": [
              "             ID    total_cost\n",
              "0        tour_1  2.138223e+07\n",
              "1      tour_100  1.332125e+07\n",
              "2     tour_1001  9.939004e+06\n",
              "3     tour_1006  2.993766e+06\n",
              "4     tour_1009  2.253369e+07\n",
              "...         ...           ...\n",
              "1596   tour_988  8.955044e+05\n",
              "1597   tour_990  2.481826e+07\n",
              "1598   tour_992  1.960139e+06\n",
              "1599   tour_996  1.215919e+06\n",
              "1600   tour_998  5.068072e+06\n",
              "\n",
              "[1601 rows x 2 columns]"
            ]
          },
          "metadata": {
            "tags": []
          },
          "execution_count": 73
        }
      ]
    },
    {
      "cell_type": "code",
      "metadata": {
        "id": "7agUsR_vvf-j"
      },
      "source": [
        ""
      ],
      "execution_count": null,
      "outputs": []
    }
  ]
}